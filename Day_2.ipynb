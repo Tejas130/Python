{
 "cells": [
  {
   "cell_type": "markdown",
   "id": "b5b940f8",
   "metadata": {},
   "source": [
    "\n",
    "\n",
    "# operators"
   ]
  },
  {
   "cell_type": "code",
   "execution_count": 2,
   "id": "0791faf9",
   "metadata": {},
   "outputs": [
    {
     "name": "stdout",
     "output_type": "stream",
     "text": [
      "7\n",
      "-3\n",
      "10\n",
      "0.4\n",
      "0\n",
      "32\n",
      "1\n"
     ]
    }
   ],
   "source": [
    "#airthmetic\n",
    "a=2\n",
    "b=5\n",
    "print(a+b) #Adds two operands.\n",
    "print(a-b) #Subtracts the second operand from the first\n",
    "print(a*b) #Multiplies two operands.\n",
    "print(a/b) #Divides the first operand by the second (always returns a float).\n",
    "print(a//b) #Floor Division (//): Divides the first operand by the second and returns the floor value (integer division)\n",
    "print(a**b) #Exponentiation (**): Raises the first operand to the power of the second.\n",
    "print(10%3) #Modulus (%): Returns the remainder of the division of the first operand by the second."
   ]
  },
  {
   "cell_type": "markdown",
   "id": "dd11a3d2",
   "metadata": {},
   "source": [
    "Assignment Operators:\n",
    "\n",
    "Assignment (=): Assigns a value to a variable.\n",
    "Addition Assignment (+=): Adds the right operand to the left operand and assigns the result to the left operand.\n",
    "Subtraction Assignment (-=): Subtracts the right operand from the left operand and assigns the result to the left operand.\n",
    "Multiplication Assignment (*=): Multiplies the right operand with the left operand and assigns the result to the left operand.\n",
    "Division Assignment (/=): Divides the left operand by the right operand and assigns the result to the left operand.\n",
    "Modulus Assignment (%=): Takes the modulus of the left operand with the right operand and assigns the result to the left operand."
   ]
  },
  {
   "cell_type": "code",
   "execution_count": 4,
   "id": "445ffbc5",
   "metadata": {},
   "outputs": [
    {
     "name": "stdout",
     "output_type": "stream",
     "text": [
      "13\n",
      "10\n",
      "3.3333333333333335\n",
      "1.0\n",
      "1.0\n"
     ]
    }
   ],
   "source": [
    "a=10\n",
    "b=3\n",
    "\n",
    "a+=b\n",
    "print(a)\n",
    "a-=b\n",
    "print(a)\n",
    "a/=b\n",
    "print(a)\n",
    "a//=b\n",
    "print(a)\n",
    "a%=b\n",
    "print(a)\n",
    "a*=b\n"
   ]
  },
  {
   "cell_type": "code",
   "execution_count": null,
   "id": "1864c4b1",
   "metadata": {},
   "outputs": [],
   "source": [
    "Comparison Operators:\n",
    "\n",
    "Equal to (==): Checks if the operands are equal.\n",
    "Not equal to (!=): Checks if the operands are not equal.\n",
    "Greater than (>): Checks if the left operand is greater than the right operand.\n",
    "Less than (<): Checks if the left operand is less than the right operand.\n",
    "Greater than or equal to (>=): Checks if the left operand is greater than or equal to the right operand.\n",
    "Less than or equal to (<=): Checks if the left operand is less than or equal to the right operand."
   ]
  },
  {
   "cell_type": "code",
   "execution_count": 7,
   "id": "a5e55d7e",
   "metadata": {},
   "outputs": [
    {
     "name": "stdout",
     "output_type": "stream",
     "text": [
      "False\n",
      "True\n",
      "True\n",
      "False\n",
      "True\n",
      "False\n"
     ]
    }
   ],
   "source": [
    "a=10\n",
    "b=3\n",
    "\n",
    "print(a==b)\n",
    "print(a!=b)\n",
    "print(a>b)\n",
    "print(a<b)\n",
    "print(a>=b)\n",
    "print(a<=b)"
   ]
  },
  {
   "cell_type": "code",
   "execution_count": null,
   "id": "6b183679",
   "metadata": {},
   "outputs": [],
   "source": [
    "Logical Operators:\n",
    "\n",
    "Logical AND (and): Returns True if both operands are True.\n",
    "Logical OR (or): Returns True if at least one of the operands is True.\n",
    "Logical NOT (not): Reverses the logical state of the operand."
   ]
  },
  {
   "cell_type": "code",
   "execution_count": 9,
   "id": "b2c4bad1",
   "metadata": {},
   "outputs": [
    {
     "name": "stdout",
     "output_type": "stream",
     "text": [
      "False\n",
      "True\n",
      "False\n",
      "True\n"
     ]
    }
   ],
   "source": [
    "a= True\n",
    "b= False\n",
    "print(a and b)\n",
    "print(a or b)\n",
    "print(not a)\n",
    "print(not b)"
   ]
  },
  {
   "cell_type": "code",
   "execution_count": null,
   "id": "bb6648a8",
   "metadata": {},
   "outputs": [],
   "source": [
    "Membership Operators:\n",
    "\n",
    "Membership operators are used to test if a value is a member of a sequence, such as a string, list, or tuple.\n",
    "In (in): Returns True if a value is found in the sequence.\n",
    "Not in (not in): Returns True if a value is not found in the sequence."
   ]
  },
  {
   "cell_type": "code",
   "execution_count": 12,
   "id": "3b906ef7",
   "metadata": {},
   "outputs": [
    {
     "data": {
      "text/plain": [
       "True"
      ]
     },
     "execution_count": 12,
     "metadata": {},
     "output_type": "execute_result"
    }
   ],
   "source": [
    "'d' in 'delhi'"
   ]
  },
  {
   "cell_type": "code",
   "execution_count": 13,
   "id": "81c4a87d",
   "metadata": {},
   "outputs": [
    {
     "data": {
      "text/plain": [
       "False"
      ]
     },
     "execution_count": 13,
     "metadata": {},
     "output_type": "execute_result"
    }
   ],
   "source": [
    "1 in[2,3,4,5,6]"
   ]
  },
  {
   "cell_type": "code",
   "execution_count": 15,
   "id": "6ed30905",
   "metadata": {},
   "outputs": [
    {
     "data": {
      "text/plain": [
       "False"
      ]
     },
     "execution_count": 15,
     "metadata": {},
     "output_type": "execute_result"
    }
   ],
   "source": [
    "'a' not in ('a','b','c','d')"
   ]
  },
  {
   "cell_type": "code",
   "execution_count": null,
   "id": "7705ab23",
   "metadata": {},
   "outputs": [],
   "source": [
    "\n",
    "Identity Operators:\n",
    "\n",
    "Identity operators are used to compare the memory locations of two objects.\n",
    "Is (is): Returns True if both operands refer to the same object.\n",
    "Is not (is not): Returns True if both operands do not refer to the same object."
   ]
  },
  {
   "cell_type": "code",
   "execution_count": 16,
   "id": "5e042a80",
   "metadata": {},
   "outputs": [
    {
     "name": "stdout",
     "output_type": "stream",
     "text": [
      "True\n",
      "True\n",
      "False\n",
      "True\n"
     ]
    }
   ],
   "source": [
    "a=[1,2,3]\n",
    "b=a\n",
    "c=[1,2,3]\n",
    "\n",
    "print(a is b)\n",
    "print(b is a)\n",
    "print(a is c)\n",
    "print(a is not c)"
   ]
  },
  {
   "cell_type": "markdown",
   "id": "5a2defd5",
   "metadata": {},
   "source": [
    "Bitwise AND (&):\n",
    "\n",
    "Compares each bit of the first operand to the corresponding bit of the second operand. If both bits are 1, the result is 1; otherwise, the result is 0."
   ]
  },
  {
   "cell_type": "code",
   "execution_count": 17,
   "id": "5ac57186",
   "metadata": {},
   "outputs": [
    {
     "name": "stdout",
     "output_type": "stream",
     "text": [
      "2\n"
     ]
    }
   ],
   "source": [
    "print(2&3)\n",
    "\n",
    "#In binary, 2 is 10 and 3 is 11. \n",
    "#Performing a bitwise AND operation on these numbers, the result is 10, which is equal to 2 in decimal."
   ]
  },
  {
   "cell_type": "markdown",
   "id": "c1425b22",
   "metadata": {},
   "source": [
    "Bitwise OR (|):\n",
    "\n",
    "Compares each bit of the first operand to the corresponding bit of the second operand. If at least one of the bits is 1, the result is 1; otherwise, the result is 0."
   ]
  },
  {
   "cell_type": "code",
   "execution_count": 18,
   "id": "448f17f8",
   "metadata": {},
   "outputs": [
    {
     "name": "stdout",
     "output_type": "stream",
     "text": [
      "3\n"
     ]
    }
   ],
   "source": [
    "print( 2 | 3)\n",
    "\n",
    "#Explanation: In binary, 2 is 10 and 3 is 11. \n",
    "#Performing a bitwise OR operation on these numbers, the result is 11, which is equal to 3 in decimal."
   ]
  },
  {
   "cell_type": "markdown",
   "id": "314bd3c2",
   "metadata": {},
   "source": [
    "Bitwise XOR (^):\n",
    "\n",
    "Compares each bit of the first operand to the corresponding bit of the second operand. If the bits are different (one is 0 and the other is 1), the result is 1; otherwise, the result is 0."
   ]
  },
  {
   "cell_type": "code",
   "execution_count": 19,
   "id": "0f2b6f65",
   "metadata": {},
   "outputs": [
    {
     "name": "stdout",
     "output_type": "stream",
     "text": [
      "1\n"
     ]
    }
   ],
   "source": [
    "print(2 ^ 3)\n",
    "\n",
    "# In binary, 2 is 10 and 3 is 11. \n",
    "#Performing a bitwise XOR operation on these numbers, the result is 01, which is equal to 1 in decimal."
   ]
  },
  {
   "cell_type": "markdown",
   "id": "3e391a49",
   "metadata": {},
   "source": [
    "Bitwise NOT (~):\n",
    "\n",
    "Flips the bits of the operand. Changes each 0 to 1 and each 1 to 0"
   ]
  },
  {
   "cell_type": "code",
   "execution_count": 20,
   "id": "1c4d5157",
   "metadata": {},
   "outputs": [
    {
     "name": "stdout",
     "output_type": "stream",
     "text": [
      "-4\n"
     ]
    }
   ],
   "source": [
    "print(~3)\n",
    "#Explanation: In binary, 3 is 11. \n",
    "#Performing a bitwise NOT operation on 3, the result is -100 in binary, which is equal to -4 in decimal."
   ]
  },
  {
   "cell_type": "markdown",
   "id": "07677e97",
   "metadata": {},
   "source": [
    "Bitwise right shift (>>):\n",
    "\n",
    "Shifts the bits of the first operand to the right by the number of positions specified by the second operan"
   ]
  },
  {
   "cell_type": "code",
   "execution_count": 21,
   "id": "ac9892d1",
   "metadata": {},
   "outputs": [
    {
     "name": "stdout",
     "output_type": "stream",
     "text": [
      "0\n"
     ]
    }
   ],
   "source": [
    "print(5>>4)"
   ]
  },
  {
   "cell_type": "code",
   "execution_count": 22,
   "id": "5788c23e",
   "metadata": {},
   "outputs": [
    {
     "name": "stdout",
     "output_type": "stream",
     "text": [
      "80\n"
     ]
    }
   ],
   "source": [
    "print(5<<4)"
   ]
  },
  {
   "cell_type": "code",
   "execution_count": 23,
   "id": "61d85395",
   "metadata": {},
   "outputs": [
    {
     "name": "stdout",
     "output_type": "stream",
     "text": [
      "enter a  three digit number155\n",
      "11\n"
     ]
    }
   ],
   "source": [
    "#find sum of 3 digit number\n",
    "number=int(input('enter a  three digit number'))\n",
    "\n",
    "a=number%10\n",
    "number=number//10\n",
    "\n",
    "b=number%10\n",
    "number=number//10\n",
    "\n",
    "c=number%10\n",
    "\n",
    "print(a+b+c)"
   ]
  },
  {
   "cell_type": "markdown",
   "id": "d169972a",
   "metadata": {},
   "source": [
    "if-else statement is used to conditionally execute different blocks of code based on a given condition. It allows you to specify alternative paths of execution based on whether the condition is true or false"
   ]
  },
  {
   "cell_type": "code",
   "execution_count": 24,
   "id": "ac9bcb44",
   "metadata": {},
   "outputs": [
    {
     "name": "stdout",
     "output_type": "stream",
     "text": [
      "x is greater number\n"
     ]
    }
   ],
   "source": [
    "#program-1\n",
    "x=10\n",
    "if x > 5:\n",
    "    print(\"x is greater number\")\n",
    "else:\n",
    "    print('x is smaller number')"
   ]
  },
  {
   "cell_type": "code",
   "execution_count": 28,
   "id": "3a19fa00",
   "metadata": {},
   "outputs": [
    {
     "name": "stdout",
     "output_type": "stream",
     "text": [
      "enter a emailtejasghodak@gmail.com\n",
      "enter a password1234\n",
      "not coreect either email or password\n"
     ]
    }
   ],
   "source": [
    "#program-2\n",
    "email= input('enter a email')\n",
    "password =input('enter a password')\n",
    "\n",
    "if email =='tejasghodake@gmail.com' and password=='1234':\n",
    "    print('welcome,tejas')\n",
    "elif email =='tejasghodake@gmail.com' and password!='1234':\n",
    "    print('password is incorrect')\n",
    "    password=input('enter again password')\n",
    "    if password=='1234':\n",
    "        print('finally,welcome')\n",
    "    else:\n",
    "        print('try to login again')\n",
    "else:\n",
    "    print('not corect either email or password')\n",
    "    "
   ]
  },
  {
   "cell_type": "code",
   "execution_count": 31,
   "id": "f1265455",
   "metadata": {},
   "outputs": [
    {
     "name": "stdout",
     "output_type": "stream",
     "text": [
      "enter a no10\n",
      "enter a no5\n",
      "enter a no9\n",
      "b is smaller no\n"
     ]
    }
   ],
   "source": [
    "#program--3\n",
    "# min of 3 number\n",
    "a=int(input('enter a no'))\n",
    "b=int(input('enter a no'))\n",
    "c=int(input('enter a no'))\n",
    "\n",
    "if a<b and a<c:\n",
    "    print('a is smaller no')\n",
    "elif b<c and b<a:\n",
    "    print('b is smaller no')\n",
    "else:\n",
    "    print('c is smaller no')\n",
    "    "
   ]
  },
  {
   "cell_type": "markdown",
   "id": "26892146",
   "metadata": {},
   "source": [
    "#while loop\n",
    "\n",
    "while loop in Python allows you to repeatedly execute a block of code as long as a specified condition is true. It is useful when you want to repeat a set of instructions until a certain condition is met or becomes false"
   ]
  },
  {
   "cell_type": "code",
   "execution_count": 32,
   "id": "ad9d9f19",
   "metadata": {},
   "outputs": [
    {
     "name": "stdout",
     "output_type": "stream",
     "text": [
      "count : 0\n",
      "count : 1\n",
      "count : 2\n",
      "count : 3\n",
      "count : 4\n",
      "loop is finished\n"
     ]
    }
   ],
   "source": [
    "count=0\n",
    "while count<5:\n",
    "    print('count :',count)\n",
    "    count+=1\n",
    "print('loop is finished')"
   ]
  },
  {
   "cell_type": "code",
   "execution_count": 35,
   "id": "2603d06e",
   "metadata": {},
   "outputs": [
    {
     "name": "stdout",
     "output_type": "stream",
     "text": [
      "enter a no12\n",
      "12 * 1 = 12\n",
      "12 * 2 = 24\n",
      "12 * 3 = 36\n",
      "12 * 4 = 48\n",
      "12 * 5 = 60\n",
      "12 * 6 = 72\n",
      "12 * 7 = 84\n",
      "12 * 8 = 96\n",
      "12 * 9 = 108\n",
      "12 * 10 = 120\n",
      "table complete\n"
     ]
    }
   ],
   "source": [
    " #While loop example -> program to print the table\n",
    "number=int(input('enter a no'))\n",
    "count=1\n",
    "while count<11:\n",
    "    print(number,'*',count,'=',number*count)\n",
    "    count+=1\n",
    "\n",
    "print('table complete')"
   ]
  },
  {
   "cell_type": "code",
   "execution_count": 37,
   "id": "9e2ecf49",
   "metadata": {},
   "outputs": [
    {
     "name": "stdout",
     "output_type": "stream",
     "text": [
      "enter a number1511220\n",
      "sum_of_digit: 12\n"
     ]
    }
   ],
   "source": [
    "# Program -> Sum of all digits of a given number\n",
    "number =int(input('enter a number'))\n",
    "sum_of_digit=0\n",
    "while number>0:\n",
    "    digit=number%10\n",
    "    sum_of_digit+=digit\n",
    "    number//=10\n",
    "print('sum_of_digit:',sum_of_digit)"
   ]
  },
  {
   "cell_type": "code",
   "execution_count": 41,
   "id": "0d431c78",
   "metadata": {},
   "outputs": [
    {
     "name": "stdout",
     "output_type": "stream",
     "text": [
      "enter a number until user puts 012456\n",
      "enter a number until user puts 012\n",
      "enter a number until user puts 015\n",
      "enter a number until user puts 012\n",
      "enter a number until user puts 012\n",
      "enter a number until user puts 016\n",
      "enter a number until user puts 013\n",
      "enter a number until user puts 01514\n",
      "enter a number until user puts 016\n",
      "enter a number until user puts 018\n",
      "enter a number until user puts 01\n",
      "enter a number until user puts 0147\n",
      "enter a number until user puts 00\n",
      "avg_of_all_numbers 1186.0\n"
     ]
    }
   ],
   "source": [
    "numbers=[]\n",
    "total=0\n",
    "count=0\n",
    "\n",
    "while True:\n",
    "    num=int(input('enter a number until user puts 0 ::'))\n",
    "    \n",
    "    if num==0:\n",
    "        break\n",
    "    numbers.append(num)\n",
    "    total+=num\n",
    "    count+=1\n",
    "\n",
    "if count>0:\n",
    "    avg=total/count\n",
    "    print('avg_of_all_numbers',avg)"
   ]
  },
  {
   "cell_type": "markdown",
   "id": "ff1b5674",
   "metadata": {},
   "source": [
    "#modules in python\n",
    "\n",
    "1]math module in Python provides a wide range of mathematical functions and constants. It allows you to perform various mathematical operations easily\n",
    "\n",
    "\n",
    "Basic Mathematical Functions:\n",
    "math.sqrt(x): Returns the square root of x.\n",
    "math.pow(x, y): Returns x raised to the power of y.\n",
    "math.exp(x): Returns e raised to the power of x.\n",
    "math.log(x): Returns the natural logarithm (base e) of x.\n",
    "math.log10(x): Returns the base 10 logarithm of x\n",
    "\n",
    "\n",
    "Mathematical Constants:\n",
    "math.pi: Represents the mathematical constant π (pi), which is the ratio of a circle's circumference to its diameter. It is an irrational number approximately equal to 3.141592653589793.\n",
    "math.e: Represents the mathematical constant e, which is Euler's number and the base of the natural logarithm. It is an irrational number approximately equal to 2.718281828459045\n",
    "\n",
    "Trigonometric Functions:\n",
    "math.sin(x): Returns the sine of x (in radians).\n",
    "math.cos(x): Returns the cosine of x (in radians).\n",
    "math.tan(x): Returns the tangent of x (in radians).\n",
    "math.radians(x): Converts the angle x from degrees to radians.\n",
    "math.degrees(x): Converts the angle x from radians to degrees\n",
    "\n",
    "Other Useful Functions:\n",
    "math.ceil(x): Returns the smallest integer greater than or equal to x.\n",
    "math.floor(x): Returns the largest integer less than or equal to x.\n",
    "math.factorial(x): Returns the factorial of x.\n",
    "math.isclose(a, b): Returns True if a and b are close in value, within a certain tolerance"
   ]
  },
  {
   "cell_type": "code",
   "execution_count": 42,
   "id": "ff9bc0e3",
   "metadata": {},
   "outputs": [
    {
     "name": "stdout",
     "output_type": "stream",
     "text": [
      "3.141592653589793\n",
      "2.718281828459045\n"
     ]
    }
   ],
   "source": [
    "import math\n",
    "print(math.pi)\n",
    "print(math.e)"
   ]
  },
  {
   "cell_type": "code",
   "execution_count": 44,
   "id": "c4fd2787",
   "metadata": {},
   "outputs": [
    {
     "name": "stdout",
     "output_type": "stream",
     "text": [
      "3.4641016151377544\n",
      "20736.0\n",
      "162754.79141900392\n",
      "2.4849066497880004\n",
      "1.0791812460476249\n"
     ]
    }
   ],
   "source": [
    "print(math.sqrt(12))\n",
    "print(math.pow(12,4))\n",
    "print(math.exp(12))\n",
    "print(math.log(12))\n",
    "print(math.log10(12))"
   ]
  },
  {
   "cell_type": "code",
   "execution_count": 45,
   "id": "a1d09cb7",
   "metadata": {},
   "outputs": [
    {
     "name": "stdout",
     "output_type": "stream",
     "text": [
      "-0.5365729180004349\n",
      "0.8438539587324921\n",
      "-0.6358599286615808\n",
      "0.20943951023931956\n",
      "687.5493541569879\n"
     ]
    }
   ],
   "source": [
    "print(math.sin(12))\n",
    "print(math.cos(12))\n",
    "print(math.tan(12))\n",
    "print(math.radians(12))\n",
    "print(math.degrees(12))"
   ]
  },
  {
   "cell_type": "code",
   "execution_count": 49,
   "id": "be7db999",
   "metadata": {},
   "outputs": [
    {
     "name": "stdout",
     "output_type": "stream",
     "text": [
      "4\n",
      "3\n",
      "120\n",
      "True\n"
     ]
    }
   ],
   "source": [
    "print(math.ceil(3.7))\n",
    "print(math.floor(3.7))\n",
    "print(math.factorial(5))\n",
    "print(math.isclose(0.2+0.1,0.3))\n"
   ]
  },
  {
   "cell_type": "code",
   "execution_count": null,
   "id": "19090bf4",
   "metadata": {},
   "outputs": [],
   "source": []
  }
 ],
 "metadata": {
  "kernelspec": {
   "display_name": "Python 3 (ipykernel)",
   "language": "python",
   "name": "python3"
  },
  "language_info": {
   "codemirror_mode": {
    "name": "ipython",
    "version": 3
   },
   "file_extension": ".py",
   "mimetype": "text/x-python",
   "name": "python",
   "nbconvert_exporter": "python",
   "pygments_lexer": "ipython3",
   "version": "3.9.7"
  }
 },
 "nbformat": 4,
 "nbformat_minor": 5
}
