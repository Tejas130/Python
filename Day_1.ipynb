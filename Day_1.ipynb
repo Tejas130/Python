{
 "cells": [
  {
   "cell_type": "code",
   "execution_count": 1,
   "id": "06e914d4",
   "metadata": {},
   "outputs": [],
   "source": [
    "#why python famous and used in datascience\n",
    "#python is casesensitive and high programming language developed by guido van rossum released in 1991"
   ]
  },
  {
   "cell_type": "markdown",
   "id": "936d8965",
   "metadata": {},
   "source": [
    "1]Ease of Use: Python has a clean and readable syntax, making it easy to learn and understand, especially for beginners. It emphasizes code readability, which reduces the learning curve and makes it accessible to a wide range of users.\n",
    "\n",
    "2]Extensive Libraries and Ecosystem: Python has a rich ecosystem of libraries and frameworks specifically designed for data science and scientific computing. Some of the most popular ones include NumPy, Pandas, Matplotlib, and scikit-learn. These libraries provide efficient tools for data manipulation, analysis, visualization, and machine learning, making Python a powerful language for data scientists.\n",
    "\n",
    "3]Large Community Support: Python has a vibrant and active community of developers and data scientists. This means that there are abundant online resources, tutorials, and forums where beginners can seek help and experienced users can share their knowledge. The community also contributes to the development of open-source libraries, ensuring continuous improvement and innovation.\n",
    "\n",
    "4]Integration and interoperability refer to the ability of a programming language or system to work together and communicate effectively with other languages or systems.\n",
    "\n",
    "Integration involves combining different components or systems seamlessly, allowing them to function as a unified whole. In the context of programming languages, it means that a language can easily incorporate or work with code written in other languages. For example, Python can integrate with languages like C/C++, Java, or R, enabling developers to leverage existing code or libraries written in those languages within their Python programs.\n",
    "\n",
    "Interoperability, on the other hand, focuses on the ability of different systems or software to exchange and interpret information correctly. In the context of programming languages, it means that code written in one language can interact and communicate with code written in another language without issues. This enables developers to combine the strengths and features of multiple languages and utilize specialized tools or algorithms from different ecosystems.\n",
    "\n",
    "Both integration and interoperability are important in the field of data science as it allows data scientists to leverage the capabilities and libraries available in different languages and systems. It promotes code reuse, facilitates collaboration, and enables the use of domain-specific tools or libraries for efficient data analysis and machine learning tasks.\n",
    "\n",
    "5]Industry adoption refers to the widespread acceptance and use of a particular technology or tool within various sectors or industries.\n",
    "\n",
    "In simple terms, industry adoption means that a large number of companies, organizations, and professionals in different fields have embraced and incorporated a specific technology into their everyday operations. This could be a programming language, a software platform, a framework, or any other tool that provides solutions or benefits for a particular industry.\n",
    "\n",
    "When a technology or tool is widely adopted by industries, it indicates that it has proven its value and usefulness in addressing industry-specific challenges or improving efficiency and productivity. It also means that there is a growing demand for professionals with skills and expertise in that particular technology.\n",
    "\n",
    "Industry adoption can have several benefits, including:\n",
    "\n",
    "Standardization: When a technology is widely adopted, it establishes a common standard that allows different companies and organizations to collaborate and communicate effectively.\n",
    "\n",
    "Market Demand: Industries adopting a specific technology create a demand for products, services, and solutions related to that technology, leading to a thriving market and job opportunities.\n",
    "\n",
    "Innovation and Advancement: Wide industry adoption drives continuous improvement, innovation, and investment in the development of that technology, leading to advancements and new features that further benefit the industry.\n",
    "\n",
    "In summary, industry adoption signifies the acceptance and widespread use of a technology across different sectors, demonstrating its effectiveness and driving growth and development in those industries.\n",
    "\n",
    "\n",
    "\n",
    "6]Versatility refers to the ability of something, such as a tool, device, or programming language, to perform a wide range of tasks or adapt to various situations effectively.\n",
    "\n",
    "In simple terms, versatility means that something is flexible and capable of being used for different purposes or in different contexts. It implies that the tool or language can handle diverse requirements or perform multiple functions without significant limitations or modifications.\n",
    "\n",
    "When something is versatile, it offers a wide range of applications and can be utilized in various settings. It can be easily adapted or customized to meet specific needs or perform different tasks, often without requiring significant changes or additional resources.\n",
    "\n",
    "For example, a versatile tool can be used for different projects or activities, adjusting its features or settings as necessary. Similarly, a versatile programming language can be used to develop software applications in various domains, such as web development, data analysis, machine learning, or automation.\n",
    "\n",
    "Versatility is highly valued because it promotes efficiency, productivity, and adaptability. It reduces the need for specialized tools or resources, streamlines workflows, and allows users to work on different projects or address different challenges using a single tool or language.\n",
    "\n",
    "In summary, versatility means having the ability to handle a wide range of tasks or adapt to different situations effectively, offering flexibility and adaptability to meet diverse needs or requirements\n",
    "\n",
    "7]Cross-Platform Compatibility: Python is available on various platforms, including Windows, macOS, Linux, and even mobile operating systems. This cross-platform compatibility allows developers to write code that can run on different systems without major modifications.\n",
    "\n",
    "8]Interpretive Language: Python is an interpretive language, meaning that it does not require explicit compilation. The Python interpreter executes the code line by line, which makes it easy to test and debug code interactively.\n",
    "\n",
    "\n",
    "\n",
    "\n",
    "\n",
    "\n",
    "\n"
   ]
  },
  {
   "cell_type": "code",
   "execution_count": 5,
   "id": "45499fc5",
   "metadata": {},
   "outputs": [
    {
     "name": "stdout",
     "output_type": "stream",
     "text": [
      "Name: Sagar Age: 23\n"
     ]
    }
   ],
   "source": [
    "##Print function-commonly used to display output or information to the console or terminal. \n",
    "#It allows you to output text, variables, or expressions to the standard output stream.\n",
    "\n",
    " #print(*objects, sep=' ', end='\\n', file=sys.stdout, flush=False)\n",
    "\n",
    "Name='Sagar'\n",
    "Age=23\n",
    "\n",
    "#objects parameters\n",
    "#objects (optional): One or more objects to be printed. These can be variables, expressions, or literals. \n",
    "#Multiple objects can be separated by commas.\n",
    "\n",
    "\n",
    "print('Name:', Name,'Age:',Age)"
   ]
  },
  {
   "cell_type": "code",
   "execution_count": 9,
   "id": "3b1dbd4d",
   "metadata": {},
   "outputs": [
    {
     "name": "stdout",
     "output_type": "stream",
     "text": [
      "Sagar|23\n"
     ]
    }
   ],
   "source": [
    "#sep objects:Specifies the separator between the objects being printed. By default, it is set to a single space.\n",
    "print(Name,Age,sep='|')"
   ]
  },
  {
   "cell_type": "code",
   "execution_count": 10,
   "id": "fa3afc0b",
   "metadata": {},
   "outputs": [
    {
     "name": "stdout",
     "output_type": "stream",
     "text": [
      "hello--world\n"
     ]
    }
   ],
   "source": [
    "#end parameters:Specifies the string appended after the last object. By default, it is set to a newline character (\\n).\n",
    "print(\"hello\",end='--')\n",
    "print('world')"
   ]
  },
  {
   "cell_type": "code",
   "execution_count": 12,
   "id": "7fe1c53f",
   "metadata": {},
   "outputs": [
    {
     "name": "stdout",
     "output_type": "stream",
     "text": [
      "This will be flushed\n"
     ]
    }
   ],
   "source": [
    "# file parameter:ile  Specifies the file-like object where the output is directed.By default, it is set to standard output\n",
    "with open('output.txt', 'w') as file:\n",
    "    print('This is written to a file', file=file)\n",
    "\n",
    "# flush parameter\n",
    "print('This will be flushed', flush=False)\n",
    "\n"
   ]
  },
  {
   "cell_type": "markdown",
   "id": "24a38a84",
   "metadata": {},
   "source": [
    "#Flush parameter:In simple terms, when flush is set to True, it forces the program to immediately send the output to its intended location, such as the console or a file. This ensures that the output is displayed or saved without any delay.\n",
    "\n",
    "However, when flush is set to False (the default), the program may delay sending the output until a certain condition is met, such as reaching a buffer size or a new line. This delay can be more efficient in terms of performance, as it reduces the frequency of writing data to the output stream."
   ]
  },
  {
   "cell_type": "code",
   "execution_count": 16,
   "id": "dc458780",
   "metadata": {},
   "outputs": [
    {
     "name": "stdout",
     "output_type": "stream",
     "text": [
      "hello/1.4/5/True\n"
     ]
    }
   ],
   "source": [
    "print(\"hello\",1.4,5,True,sep='/')"
   ]
  },
  {
   "cell_type": "markdown",
   "id": "8985db60",
   "metadata": {},
   "source": [
    "# DATA TYPES"
   ]
  },
  {
   "cell_type": "markdown",
   "id": "de9e9634",
   "metadata": {},
   "source": [
    "\n",
    "1]Numeric Types:\n",
    "\n",
    "int: Represents integer values, such as 1, 10, -5, etc.\n",
    "\n",
    "float: Represents floating-point numbers with decimal values, such as 3.14, -2.5, etc.\n",
    "\n",
    "complex: Represents complex numbers in the form a + bj, where a and b are floats and j represents the imaginary unit.\n",
    "Boolean Type:\n",
    "\n",
    "\n",
    "2]bool: Represents boolean values, either True or False. Booleans are used for logical operations and conditional statements.\n",
    "\n",
    "3]Sequence Types:\n",
    "\n",
    "str: Represents a sequence of characters enclosed in single quotes (' ') or double quotes (\" \"). Strings are used for storing text or alphanumeric data.\n",
    "\n",
    "list: Represents an ordered collection of items enclosed in square brackets [ ]. Lists are mutable, meaning their elements can be modified.\n",
    "\n",
    "tuple: Represents an ordered collection of items enclosed in parentheses ( ). Tuples are immutable, meaning their elements cannot be modified once defined.\n",
    "\n",
    "4]Mapping Type:\n",
    "\n",
    "dict: Represents a collection of key-value pairs enclosed in curly braces { }. Dictionaries allow you to store and retrieve data using unique keys.\n",
    "\n",
    "5]Set Types:\n",
    "\n",
    "set: Represents an unordered collection of unique elements enclosed in curly braces { }. Sets are useful for performing mathematical set operations, such as union, intersection, etc.\n",
    "\n",
    "frozenset: Similar to sets, but immutable. Once defined, the elements cannot be modified.\n",
    "\n",
    "6]None Type:\n",
    "\n",
    "None: Represents the absence of a value or the null value. It is commonly used to indicate the absence of a return value or to initialize variables."
   ]
  },
  {
   "cell_type": "code",
   "execution_count": 18,
   "id": "c7187611",
   "metadata": {},
   "outputs": [
    {
     "name": "stdout",
     "output_type": "stream",
     "text": [
      "8\n",
      "1.7e+308\n"
     ]
    }
   ],
   "source": [
    "#int\n",
    "print(8)\n",
    "print(1.7e308)"
   ]
  },
  {
   "cell_type": "code",
   "execution_count": 20,
   "id": "8d2420af",
   "metadata": {},
   "outputs": [
    {
     "name": "stdout",
     "output_type": "stream",
     "text": [
      "5.5\n",
      "1.7e+308\n"
     ]
    }
   ],
   "source": [
    "#float\n",
    "print(5.5)\n",
    "print(1.7e308)"
   ]
  },
  {
   "cell_type": "code",
   "execution_count": 21,
   "id": "b50f3293",
   "metadata": {},
   "outputs": [
    {
     "name": "stdout",
     "output_type": "stream",
     "text": [
      "(5+6j)\n",
      "(7+8j) -- real_part -- 7.0\n",
      "(7+8j) -- imag_part -- 8.0\n"
     ]
    }
   ],
   "source": [
    "#complex\n",
    "print(5+6j)\n",
    "complex_num=7+8J\n",
    "print(complex_num,'--','real_part','--',complex_num.real)\n",
    "print(complex_num,'--','imag_part','--',complex_num.imag)"
   ]
  },
  {
   "cell_type": "code",
   "execution_count": 22,
   "id": "0c795015",
   "metadata": {},
   "outputs": [
    {
     "name": "stdout",
     "output_type": "stream",
     "text": [
      "True\n",
      "False\n"
     ]
    }
   ],
   "source": [
    "#bool\n",
    "print(True)\n",
    "print(False)"
   ]
  },
  {
   "cell_type": "code",
   "execution_count": 24,
   "id": "2f27bcc2",
   "metadata": {},
   "outputs": [
    {
     "name": "stdout",
     "output_type": "stream",
     "text": [
      "True_value --- 13\n",
      "False_value --- 12\n"
     ]
    }
   ],
   "source": [
    "#True being equivalent to 1 and False being equivalent to 0\n",
    "True_value= True\n",
    "False_value=False\n",
    "print('True_value','---',True_value+12) #this will be 13--12+1\n",
    "print('False_value','---',False_value+12) # this will be 12--12+0"
   ]
  },
  {
   "cell_type": "code",
   "execution_count": 25,
   "id": "543af0f8",
   "metadata": {},
   "outputs": [
    {
     "data": {
      "text/plain": [
       "1"
      ]
     },
     "execution_count": 25,
     "metadata": {},
     "output_type": "execute_result"
    }
   ],
   "source": [
    "#By using the int() function, we can explicitly convert boolean values to integers, with True becoming 1 and False becoming 0.\n",
    "\n",
    "int(True)"
   ]
  },
  {
   "cell_type": "code",
   "execution_count": 26,
   "id": "11ba496d",
   "metadata": {},
   "outputs": [
    {
     "data": {
      "text/plain": [
       "0"
      ]
     },
     "execution_count": 26,
     "metadata": {},
     "output_type": "execute_result"
    }
   ],
   "source": [
    "int(False)"
   ]
  },
  {
   "cell_type": "code",
   "execution_count": 27,
   "id": "c6150c87",
   "metadata": {},
   "outputs": [
    {
     "name": "stdout",
     "output_type": "stream",
     "text": [
      "hello sagar\n",
      "Pune\n"
     ]
    }
   ],
   "source": [
    "#str\n",
    "print(\"hello sagar\")\n",
    "print(\"Pune\")"
   ]
  },
  {
   "cell_type": "code",
   "execution_count": 28,
   "id": "697540f0",
   "metadata": {},
   "outputs": [
    {
     "name": "stdout",
     "output_type": "stream",
     "text": [
      "[1, 2, 3, 4]\n"
     ]
    }
   ],
   "source": [
    "#list\n",
    "print([1,2,3,4])"
   ]
  },
  {
   "cell_type": "code",
   "execution_count": 29,
   "id": "f25fd25c",
   "metadata": {},
   "outputs": [
    {
     "name": "stdout",
     "output_type": "stream",
     "text": [
      "(1, 2, 3, 4)\n"
     ]
    }
   ],
   "source": [
    "#tuple\n",
    "print((1,2,3,4))"
   ]
  },
  {
   "cell_type": "code",
   "execution_count": 30,
   "id": "8f0bc343",
   "metadata": {},
   "outputs": [
    {
     "name": "stdout",
     "output_type": "stream",
     "text": [
      "{'name': 'tejas', 'age': '25'}\n"
     ]
    }
   ],
   "source": [
    "#dictionary\n",
    "print({\"name\":\"tejas\",\"age\":\"25\"})"
   ]
  },
  {
   "cell_type": "code",
   "execution_count": 31,
   "id": "14658741",
   "metadata": {},
   "outputs": [
    {
     "name": "stdout",
     "output_type": "stream",
     "text": [
      "{1, 2, 3}\n"
     ]
    }
   ],
   "source": [
    "#set\n",
    "print({1,2,3,3})"
   ]
  },
  {
   "cell_type": "markdown",
   "id": "35c07d46",
   "metadata": {},
   "source": [
    "Static typing and dynamic typing are two different approaches to how the type of a variable is determined and checked in a programming language.\n",
    "\n",
    "Static Typing: In a statically typed language, variables are explicitly declared with their types, and these types are checked at compile time. Once a variable is assigned a particular type, its type cannot be changed. Examples of statically typed languages include C, C++, and Java. Static typing helps catch type-related errors early during the development process.\n",
    "\n",
    "Dynamic Typing: In a dynamically typed language, variables are not explicitly declared with types. Instead, the type of a variable is determined dynamically at runtime based on the value assigned to it. The type of a variable can also change during program execution by assigning a value of a different type to it. Examples of dynamically typed languages include Python, JavaScript, and Ruby. Dynamic typing provides flexibility and ease of use, allowing for more rapid prototyping and code flexibility.\n",
    "\n",
    "Static vs Dynamic Binding:\n",
    "\n",
    "Static binding and dynamic binding are related to how the association between a function call and its implementation is resolved in a program.\n",
    "\n",
    "Static Binding: In static binding (also known as early binding or compile-time binding), the association between a function call and its implementation is determined at compile time based on the declared type of the variable. It ensures that the correct function is called based on the type of the object known at compile time. Static binding is commonly used in statically typed languages.\n",
    "\n",
    "Dynamic Binding: In dynamic binding (also known as late binding or runtime binding), the association between a function call and its implementation is determined at runtime based on the actual type of the object. The decision of which function implementation to use is deferred until runtime, allowing for more flexibility and polymorphic behavior. Dynamic binding is commonly used in dynamically typed languages.\n",
    "\n"
   ]
  },
  {
   "cell_type": "code",
   "execution_count": 33,
   "id": "06fbb445",
   "metadata": {},
   "outputs": [],
   "source": [
    "#dynamic typing\n",
    "a=5\n",
    "#static typing\n",
    "int a =5"
   ]
  },
  {
   "cell_type": "code",
   "execution_count": 34,
   "id": "79aee220",
   "metadata": {},
   "outputs": [
    {
     "name": "stdout",
     "output_type": "stream",
     "text": [
      "5\n",
      "sagar\n"
     ]
    }
   ],
   "source": [
    "#dynamic binding #chnage data type during runtime\n",
    "a=5\n",
    "print(a)\n",
    "a=\"sagar\"\n",
    "print(a)"
   ]
  },
  {
   "cell_type": "code",
   "execution_count": 35,
   "id": "2867d8ac",
   "metadata": {},
   "outputs": [],
   "source": [
    "#staticc binding\n",
    "#once assigned datatype you cant changed to another datatype\n",
    "int a =5\n",
    "#a=\"sagar\"--not possible"
   ]
  },
  {
   "cell_type": "code",
   "execution_count": 36,
   "id": "8567cd80",
   "metadata": {},
   "outputs": [
    {
     "name": "stdout",
     "output_type": "stream",
     "text": [
      "4 5 6\n"
     ]
    }
   ],
   "source": [
    "a,b,c=4,5,6\n",
    "print(a,b,c)"
   ]
  },
  {
   "cell_type": "code",
   "execution_count": 37,
   "id": "3ea16e56",
   "metadata": {},
   "outputs": [],
   "source": [
    "a=b=c=5"
   ]
  },
  {
   "cell_type": "code",
   "execution_count": 38,
   "id": "875d734c",
   "metadata": {},
   "outputs": [
    {
     "name": "stdout",
     "output_type": "stream",
     "text": [
      "5 5 5\n"
     ]
    }
   ],
   "source": [
    "print(a,b,c)"
   ]
  },
  {
   "cell_type": "markdown",
   "id": "42fe8a21",
   "metadata": {},
   "source": [
    "There are two ways to write comments in Python:\n",
    "    \n",
    "  1] Single-line comments: Single-line comments start with the hash symbol (#) and continue until the end of the line. Anything written after the # symbol on the same line is considered a comment\n",
    "     \n",
    "     \n",
    "   2]Multi-line comments: Multi-line comments, also known as docstrings, are used to write comments that span multiple lines. They are enclosed between triple quotation marks (\"\"\" or ''') at the beginning and end.\n",
    "     Multi-line comments are often used to provide detailed documentation for classes, functions, or modules. They can be accessed using the __doc__ attribute of an object."
   ]
  },
  {
   "cell_type": "code",
   "execution_count": 39,
   "id": "91caca11",
   "metadata": {},
   "outputs": [],
   "source": [
    "#this is comment"
   ]
  },
  {
   "cell_type": "code",
   "execution_count": 41,
   "id": "a6fa0317",
   "metadata": {},
   "outputs": [
    {
     "data": {
      "text/plain": [
       "'\\nthis is also comment and hello guys how are you?\\nhow is it possible in python\\n'"
      ]
     },
     "execution_count": 41,
     "metadata": {},
     "output_type": "execute_result"
    }
   ],
   "source": [
    "\"\"\"\n",
    "this is also comment and hello guys how are you?\n",
    "how is it possible in python\n",
    "\"\"\""
   ]
  },
  {
   "cell_type": "code",
   "execution_count": 42,
   "id": "25045c96",
   "metadata": {},
   "outputs": [
    {
     "data": {
      "text/plain": [
       "'\\nThis is a multi-line comment in Python.\\nIt can span across multiple lines.\\n'"
      ]
     },
     "execution_count": 42,
     "metadata": {},
     "output_type": "execute_result"
    }
   ],
   "source": [
    "\"\"\"\n",
    "This is a multi-line comment in Python.\n",
    "It can span across multiple lines.\n",
    "\"\"\"\n"
   ]
  },
  {
   "cell_type": "code",
   "execution_count": 43,
   "id": "5861c951",
   "metadata": {},
   "outputs": [
    {
     "name": "stdout",
     "output_type": "stream",
     "text": [
      "\n",
      "    This function performs a specific task.\n",
      "    \n"
     ]
    }
   ],
   "source": [
    "def my_function():\n",
    "    \"\"\"\n",
    "    This function performs a specific task.\n",
    "    \"\"\"\n",
    "    # Function code goes here\n",
    "\n",
    "print(my_function.__doc__)\n"
   ]
  },
  {
   "cell_type": "markdown",
   "id": "be157380",
   "metadata": {},
   "source": [
    "#The purpose of docstrings is to provide information about the functionality of classes, functions, or modules. They are mainly intended for developers to read and understand the code, rather than being displayed as output during program execution."
   ]
  },
  {
   "cell_type": "markdown",
   "id": "0d1cea6e",
   "metadata": {},
   "source": [
    "Type Conversion, also known as type casting, refers to the process of converting a value from one data type to another in a programming language. In Python, type conversions can be classified into two categories: implicit type conversion (also called automatic type conversion or coercion) and explicit type conversion (also known as manual type conversion or casting).\n",
    "\n",
    "1]Implicit Type Conversion:\n",
    "Implicit type conversion occurs automatically when the interpreter converts one data type to another without any explicit instructions from the programmer. This conversion is performed to ensure compatibility between different data types in an operation or expression.\n",
    "\n",
    "2]Explicit Type Conversion:\n",
    "Explicit type conversion involves manually converting a value from one data type to another by using specific functions or constructors provided by the programming language. This type of conversion requires the programmer to explicitly indicate the desired data type."
   ]
  },
  {
   "cell_type": "code",
   "execution_count": 45,
   "id": "a1d3aa9e",
   "metadata": {},
   "outputs": [
    {
     "name": "stdout",
     "output_type": "stream",
     "text": [
      "10.5\n"
     ]
    }
   ],
   "source": [
    "#implicit conversion\n",
    "print(5+5.5)"
   ]
  },
  {
   "cell_type": "code",
   "execution_count": 46,
   "id": "01d6f751",
   "metadata": {},
   "outputs": [
    {
     "data": {
      "text/plain": [
       "int"
      ]
     },
     "execution_count": 46,
     "metadata": {},
     "output_type": "execute_result"
    }
   ],
   "source": [
    "type(5)"
   ]
  },
  {
   "cell_type": "code",
   "execution_count": 47,
   "id": "6e74733e",
   "metadata": {},
   "outputs": [
    {
     "data": {
      "text/plain": [
       "float"
      ]
     },
     "execution_count": 47,
     "metadata": {},
     "output_type": "execute_result"
    }
   ],
   "source": [
    "type(5.5)"
   ]
  },
  {
   "cell_type": "markdown",
   "id": "fe428c8a",
   "metadata": {},
   "source": [
    "#. Python automatically converts the integer to a float before performing the addition, resulting in a float value as the output.\n",
    "\n",
    "#type() function is used to determine the data type of a given object. It returns the type of the object as a result\n",
    "\n",
    "\n",
    "int(): This function is used to convert a value to an integer data type. If the value is a numeric string or a floating-point number, it will be converted to an integer. If the value is a non-numeric string or an object that cannot be directly converted to an integer, it will raise a ValueError\n",
    "\n",
    "\n",
    "str(): This function is used to convert a value to a string data type. It can be used to convert various data types, including numbers, booleans, and objects, to their string representation.\n",
    "\n",
    "list(): This function is used to convert an iterable (such as a string, tuple, or set) to a list. It creates a new list containing the elements of the iterable\n",
    "\n",
    "dict(): This function is used to create a new dictionary from an iterable of key-value pairs. It takes an iterable object containing tuples or other iterable items with two elements each (key, value)."
   ]
  },
  {
   "cell_type": "code",
   "execution_count": 49,
   "id": "10a1e7a9",
   "metadata": {},
   "outputs": [
    {
     "name": "stdout",
     "output_type": "stream",
     "text": [
      "<class 'str'>\n",
      "<class 'int'>\n"
     ]
    },
    {
     "ename": "TypeError",
     "evalue": "can only concatenate str (not \"int\") to str",
     "output_type": "error",
     "traceback": [
      "\u001b[1;31m---------------------------------------------------------------------------\u001b[0m",
      "\u001b[1;31mTypeError\u001b[0m                                 Traceback (most recent call last)",
      "\u001b[1;32m~\\AppData\\Local\\Temp/ipykernel_26536/2791687944.py\u001b[0m in \u001b[0;36m<module>\u001b[1;34m\u001b[0m\n\u001b[0;32m      4\u001b[0m \u001b[0mb\u001b[0m\u001b[1;33m=\u001b[0m\u001b[1;36m10\u001b[0m\u001b[1;33m\u001b[0m\u001b[1;33m\u001b[0m\u001b[0m\n\u001b[0;32m      5\u001b[0m \u001b[0mprint\u001b[0m\u001b[1;33m(\u001b[0m\u001b[0mtype\u001b[0m\u001b[1;33m(\u001b[0m\u001b[0mb\u001b[0m\u001b[1;33m)\u001b[0m\u001b[1;33m)\u001b[0m\u001b[1;33m\u001b[0m\u001b[1;33m\u001b[0m\u001b[0m\n\u001b[1;32m----> 6\u001b[1;33m \u001b[0ma\u001b[0m\u001b[1;33m+\u001b[0m\u001b[0mb\u001b[0m\u001b[1;33m\u001b[0m\u001b[1;33m\u001b[0m\u001b[0m\n\u001b[0m",
      "\u001b[1;31mTypeError\u001b[0m: can only concatenate str (not \"int\") to str"
     ]
    }
   ],
   "source": [
    "#explicit conversion\n",
    "a='15'\n",
    "print(type(a))\n",
    "b=10\n",
    "print(type(b))\n",
    "a+b"
   ]
  },
  {
   "cell_type": "code",
   "execution_count": 50,
   "id": "df903351",
   "metadata": {},
   "outputs": [
    {
     "data": {
      "text/plain": [
       "25"
      ]
     },
     "execution_count": 50,
     "metadata": {},
     "output_type": "execute_result"
    }
   ],
   "source": [
    "int(a)+b"
   ]
  },
  {
   "cell_type": "markdown",
   "id": "55890f94",
   "metadata": {},
   "source": [
    "1]Keywords:\n",
    "Keywords, also known as reserved words, are predefined words that have special meanings and functionalities in the Python language. These words are reserved for specific purposes and cannot be used as variable names or identifiers.\n",
    "\n",
    "\n",
    "2]Identifiers:\n",
    "Identifiers are names used to identify variables, functions, classes, modules, or other entities in Python. An identifier can be a combination of letters (both uppercase and lowercase), digits, and underscores (_), with some rules to follow:\n",
    "The first character of an identifier must be a letter or an underscore.\n",
    "Identifiers are case-sensitive, meaning myVar and myvar are considered different.\n",
    "Python keywords cannot be used as identifiers.\n",
    "Identifiers should not be a built-in function or predefined name\n",
    "You can't start with a digit\n",
    "You can use special chars -> _"
   ]
  },
  {
   "cell_type": "markdown",
   "id": "d3f60945",
   "metadata": {},
   "source": [
    "literals are fixed values or constants that are directly used in the code. They represent specific types of data and are written in a literal form that can be assigned to variables or used directly in expressions."
   ]
  },
  {
   "cell_type": "code",
   "execution_count": 51,
   "id": "16c7dc7b",
   "metadata": {},
   "outputs": [],
   "source": [
    "a = 0b1010 #Binary Literals\n",
    "b = 100 #Decimal Literal \n",
    "c = 0o310 #Octal Literal\n",
    "d = 0x12c #Hexadecimal Literal"
   ]
  },
  {
   "cell_type": "code",
   "execution_count": 52,
   "id": "72858a2e",
   "metadata": {},
   "outputs": [
    {
     "name": "stdout",
     "output_type": "stream",
     "text": [
      "This is Python\n",
      "This is Python\n",
      "C\n",
      "This is a multiline string with more than one line code.\n",
      "😀😆🤣\n",
      "raw \\n string\n"
     ]
    }
   ],
   "source": [
    "string = 'This is Python'\n",
    "strings = \"This is Python\"\n",
    "char = \"C\"\n",
    "multiline_str = \"\"\"This is a multiline string with more than one line code.\"\"\"\n",
    "unicode = u\"\\U0001f600\\U0001F606\\U0001F923\"\n",
    "raw_str = r\"raw \\n string\"\n",
    "\n",
    "print(string)\n",
    "print(strings)\n",
    "print(char)\n",
    "print(multiline_str)\n",
    "print(unicode)\n",
    "print(raw_str)"
   ]
  },
  {
   "cell_type": "markdown",
   "id": "3dde671f",
   "metadata": {},
   "source": [
    "Literals:\n",
    "Literals are fixed values or constants that are directly written in the code. They represent specific types of data such as numbers, strings, booleans, etc. Examples of literals include 123 (numeric literal), 'Hello' (string literal), and True (boolean literal). Literals provide direct values that can be assigned to variables or used in expressions without any computation or evaluation.\n",
    "\n",
    "Variables:\n",
    "Variables are used to store and manipulate data in a program. They are named memory locations that hold values. A variable is created by assigning a value to it using the assignment operator (=). Variables have names that serve as identifiers, allowing us to refer to and manipulate their associated values. For example, x = 5 creates a variable named x and assigns it the value 5"
   ]
  },
  {
   "cell_type": "code",
   "execution_count": 53,
   "id": "ef2d06fe",
   "metadata": {},
   "outputs": [
    {
     "name": "stdout",
     "output_type": "stream",
     "text": [
      "0\n",
      "1\n",
      "2\n",
      "3\n",
      "4\n"
     ]
    }
   ],
   "source": [
    "# Literals\n",
    "number = 10  # Numeric literal (integer)\n",
    "name = 'John'  # String literal\n",
    "is_valid = True  # Boolean literal\n",
    "\n",
    "# Variables\n",
    "x = 5  # Variable named 'x' storing the value 5\n",
    "y = 'Hello'  # Variable named 'y' storing the string 'Hello'\n",
    "is_active = False  # Variable named 'is_active' storing the boolean value False\n",
    "\n",
    "# Identifiers\n",
    "my_variable = 20  # Identifier 'my_variable' representing a variable storing the value 20\n",
    "calculate_area = lambda r: 3.14 * r**2  # Identifier 'calculate_area' representing a lambda function\n",
    "\n",
    "class Person:  # Identifier 'Person' representing a class\n",
    "    pass\n",
    "\n",
    "# Keywords\n",
    "if is_active:  # 'if' is a keyword used in a conditional statement\n",
    "    print(name)  # 'print' is a keyword used to output values\n",
    "\n",
    "for i in range(5):  # 'for' is a keyword used in a loop\n",
    "    print(i)\n",
    "\n",
    "def greet():  # 'def' is a keyword used to define a function\n",
    "    print('Hello')\n",
    "\n"
   ]
  },
  {
   "cell_type": "markdown",
   "id": "f971a4b7",
   "metadata": {},
   "source": [
    "Menu-Based Systems: Applications with menu-based systems, such as restaurant ordering systems or interactive quizzes, can use the input() function to present menu options to the user and collect their choices. The user can input a number or letter corresponding to a specific menu option.\n",
    "\n",
    "User Authentication: During user authentication processes, the input() function can be used to receive username and password inputs from the user. The entered credentials can be compared against stored data to determine if the user is authorized to access a system or perform certain actions"
   ]
  },
  {
   "cell_type": "markdown",
   "id": "367b5c5c",
   "metadata": {},
   "source": [
    "Once the input() function is called, the program will wait for the user to enter some text and press the \"Enter\" key. The entered text is then returned by the input() function as a string and assigned to the variable.\n",
    "\n",
    "\n",
    "It's important to note that the input() function always returns a string, regardless of what the user enters. If you need to process the input as a different data type, such as an integer or a float, you'll need to explicitly convert it using appropriate conversion functions like int() or float()"
   ]
  },
  {
   "cell_type": "code",
   "execution_count": 55,
   "id": "74f97eca",
   "metadata": {},
   "outputs": [
    {
     "name": "stdout",
     "output_type": "stream",
     "text": [
      "enter a namesagar\n",
      "enter age25\n",
      "Name -- sagar Age -- 25 <class 'str'> <class 'str'>\n"
     ]
    }
   ],
   "source": [
    "name=input(\"enter a name\")\n",
    "age=input(\"enter age\")\n",
    "print('Name','--',name,'Age','--',age,type(age),type(name))"
   ]
  },
  {
   "cell_type": "code",
   "execution_count": null,
   "id": "90b99997",
   "metadata": {},
   "outputs": [],
   "source": [
    "length = float(input(\"Enter the length of the rectangle: \"))\n",
    "width = float(input(\"Enter the width of the rectangle: \"))\n",
    "\n",
    "area = length * width\n",
    "\n",
    "print(\"The area of the rectangle is:\", area)\n"
   ]
  },
  {
   "cell_type": "code",
   "execution_count": 57,
   "id": "7cbe4c65",
   "metadata": {},
   "outputs": [
    {
     "name": "stdout",
     "output_type": "stream",
     "text": [
      "enter the length of reactangle :25\n",
      "enter the width of reactangle:25\n",
      "area of reactangle: 625.0\n"
     ]
    }
   ],
   "source": [
    "length=float(input('enter the length of reactangle :'))\n",
    "width=float(input('enter the width of reactangle:'))\n",
    "area= length*width\n",
    "print('area of reactangle:', area)"
   ]
  },
  {
   "cell_type": "code",
   "execution_count": null,
   "id": "d682ab98",
   "metadata": {},
   "outputs": [],
   "source": []
  }
 ],
 "metadata": {
  "kernelspec": {
   "display_name": "Python 3 (ipykernel)",
   "language": "python",
   "name": "python3"
  },
  "language_info": {
   "codemirror_mode": {
    "name": "ipython",
    "version": 3
   },
   "file_extension": ".py",
   "mimetype": "text/x-python",
   "name": "python",
   "nbconvert_exporter": "python",
   "pygments_lexer": "ipython3",
   "version": "3.9.7"
  }
 },
 "nbformat": 4,
 "nbformat_minor": 5
}
