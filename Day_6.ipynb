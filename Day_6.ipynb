{
 "cells": [
  {
   "cell_type": "code",
   "execution_count": 3,
   "id": "8628f8a1",
   "metadata": {},
   "outputs": [],
   "source": [
    "def is_even(num):\n",
    "    \"\"\"\n",
    "    This fuction retrurns given number is even or odd\n",
    "    input-any valid integer\n",
    "    output-even or odd\n",
    "    \"\"\"\n",
    "    if type(num)== int:\n",
    "        if num%2==0:\n",
    "            print('number is even')\n",
    "        else:\n",
    "            print('number is odd')\n",
    "    else:\n",
    "        print('pls enter integer number')"
   ]
  },
  {
   "cell_type": "code",
   "execution_count": 4,
   "id": "1037127c",
   "metadata": {},
   "outputs": [
    {
     "name": "stdout",
     "output_type": "stream",
     "text": [
      "number is even\n"
     ]
    }
   ],
   "source": [
    "is_even(10)"
   ]
  },
  {
   "cell_type": "code",
   "execution_count": 10,
   "id": "e56b72a4",
   "metadata": {},
   "outputs": [
    {
     "name": "stdout",
     "output_type": "stream",
     "text": [
      "1\n",
      "number is odd\n",
      "2\n",
      "number is even\n",
      "3\n",
      "number is odd\n",
      "4\n",
      "number is even\n",
      "5\n",
      "number is odd\n",
      "6\n",
      "number is even\n",
      "7\n",
      "number is odd\n",
      "8\n",
      "number is even\n",
      "9\n",
      "number is odd\n",
      "10\n",
      "number is even\n"
     ]
    }
   ],
   "source": [
    "for i in range(1,11):\n",
    "    print(i)\n",
    "    x=is_even(i)\n",
    "   "
   ]
  },
  {
   "cell_type": "code",
   "execution_count": 11,
   "id": "009ba8f2",
   "metadata": {},
   "outputs": [
    {
     "name": "stdout",
     "output_type": "stream",
     "text": [
      "type(object_or_name, bases, dict)\n",
      "type(object) -> the object's type\n",
      "type(name, bases, dict) -> a new type\n"
     ]
    }
   ],
   "source": [
    "print(type.__doc__)"
   ]
  },
  {
   "cell_type": "code",
   "execution_count": 12,
   "id": "9c07255f",
   "metadata": {},
   "outputs": [
    {
     "name": "stdout",
     "output_type": "stream",
     "text": [
      "pls enter integer number\n"
     ]
    }
   ],
   "source": [
    "is_even('hello')"
   ]
  },
  {
   "cell_type": "code",
   "execution_count": 13,
   "id": "4c52e011",
   "metadata": {},
   "outputs": [],
   "source": [
    "def power(a=1,b=1):\n",
    "    return a*b"
   ]
  },
  {
   "cell_type": "code",
   "execution_count": 14,
   "id": "d7c114fa",
   "metadata": {},
   "outputs": [
    {
     "data": {
      "text/plain": [
       "1"
      ]
     },
     "execution_count": 14,
     "metadata": {},
     "output_type": "execute_result"
    }
   ],
   "source": [
    "power()"
   ]
  },
  {
   "cell_type": "code",
   "execution_count": 15,
   "id": "f96f038f",
   "metadata": {},
   "outputs": [
    {
     "data": {
      "text/plain": [
       "6"
      ]
     },
     "execution_count": 15,
     "metadata": {},
     "output_type": "execute_result"
    }
   ],
   "source": [
    "#positional argument\n",
    "power(2,3)"
   ]
  },
  {
   "cell_type": "code",
   "execution_count": 16,
   "id": "a3a7e9be",
   "metadata": {},
   "outputs": [
    {
     "data": {
      "text/plain": [
       "8"
      ]
     },
     "execution_count": 16,
     "metadata": {},
     "output_type": "execute_result"
    }
   ],
   "source": [
    "#keyword document\n",
    "power(b=4,a=2)"
   ]
  },
  {
   "cell_type": "code",
   "execution_count": 17,
   "id": "fae9f0b1",
   "metadata": {},
   "outputs": [],
   "source": [
    "#*args and **kwargs are special Python keywords that are used to pass the variable length of arguments to a function"
   ]
  },
  {
   "cell_type": "code",
   "execution_count": 22,
   "id": "3ebfda38",
   "metadata": {},
   "outputs": [],
   "source": [
    "# *args\n",
    "# allows us to pass a variable number of non-keyword arguments to a function.\n",
    "def multiply(*args):\n",
    "    pdt=1\n",
    "    for i in args:\n",
    "        pdt=pdt*i\n",
    "    print(args)\n",
    "    return pdt"
   ]
  },
  {
   "cell_type": "code",
   "execution_count": 24,
   "id": "0ded33d0",
   "metadata": {},
   "outputs": [
    {
     "name": "stdout",
     "output_type": "stream",
     "text": [
      "(1, 2, 3, 4, 5, 6)\n"
     ]
    },
    {
     "data": {
      "text/plain": [
       "720"
      ]
     },
     "execution_count": 24,
     "metadata": {},
     "output_type": "execute_result"
    }
   ],
   "source": [
    "multiply(1,2,3,4,5,6)"
   ]
  },
  {
   "cell_type": "code",
   "execution_count": 25,
   "id": "4a30184d",
   "metadata": {},
   "outputs": [],
   "source": [
    "# **kwargs\n",
    "# **kwargs allows us to pass any number of keyword arguments.\n",
    "# Keyword arguments mean that they contain a key-value pair, like a Python dictionary.\n",
    "def display(**args):\n",
    "    for (key,value) in args.items():\n",
    "        print(key,'-->',value)"
   ]
  },
  {
   "cell_type": "code",
   "execution_count": 27,
   "id": "11866c07",
   "metadata": {},
   "outputs": [
    {
     "name": "stdout",
     "output_type": "stream",
     "text": [
      "india --> delhi\n"
     ]
    }
   ],
   "source": [
    "display(india ='delhi')"
   ]
  },
  {
   "cell_type": "code",
   "execution_count": 28,
   "id": "b2710c86",
   "metadata": {},
   "outputs": [],
   "source": [
    "#Points to remember while using *args and **kwargs\n",
    "#order of the arguments matter(normal -> *args -> **kwargs)\n",
    "#The words “args” and “kwargs” are only a convention, you can use any name of your choice"
   ]
  },
  {
   "cell_type": "code",
   "execution_count": 29,
   "id": "a88e9caf",
   "metadata": {},
   "outputs": [
    {
     "name": "stdout",
     "output_type": "stream",
     "text": [
      "None\n",
      "[1, 2, 3, 4, 5]\n"
     ]
    }
   ],
   "source": [
    "L=[1,2,3,4]\n",
    "print(L.append(5))\n",
    "print(L)"
   ]
  },
  {
   "cell_type": "code",
   "execution_count": 30,
   "id": "6623c4d4",
   "metadata": {},
   "outputs": [
    {
     "name": "stdout",
     "output_type": "stream",
     "text": [
      "5\n",
      "6\n",
      "5\n"
     ]
    }
   ],
   "source": [
    "#variable scope\n",
    "def g(y):\n",
    "    print(x)\n",
    "    print(x+1)\n",
    "x=5\n",
    "g(x)\n",
    "print(x)"
   ]
  },
  {
   "cell_type": "code",
   "execution_count": 31,
   "id": "f1c45718",
   "metadata": {},
   "outputs": [
    {
     "name": "stdout",
     "output_type": "stream",
     "text": [
      "2\n",
      "5\n"
     ]
    }
   ],
   "source": [
    "def f(y):\n",
    "    x=1\n",
    "    x=x+1\n",
    "    print(x)\n",
    "x=5\n",
    "f(x)\n",
    "print(x)"
   ]
  },
  {
   "cell_type": "code",
   "execution_count": 32,
   "id": "3b8b16c9",
   "metadata": {},
   "outputs": [
    {
     "ename": "UnboundLocalError",
     "evalue": "local variable 'x' referenced before assignment",
     "output_type": "error",
     "traceback": [
      "\u001b[1;31m---------------------------------------------------------------------------\u001b[0m",
      "\u001b[1;31mUnboundLocalError\u001b[0m                         Traceback (most recent call last)",
      "\u001b[1;32m~\\AppData\\Local\\Temp/ipykernel_18304/3211324729.py\u001b[0m in \u001b[0;36m<module>\u001b[1;34m\u001b[0m\n\u001b[0;32m      2\u001b[0m     \u001b[0mx\u001b[0m\u001b[1;33m+=\u001b[0m\u001b[1;36m1\u001b[0m\u001b[1;33m\u001b[0m\u001b[1;33m\u001b[0m\u001b[0m\n\u001b[0;32m      3\u001b[0m \u001b[0mx\u001b[0m\u001b[1;33m=\u001b[0m\u001b[1;36m5\u001b[0m\u001b[1;33m\u001b[0m\u001b[1;33m\u001b[0m\u001b[0m\n\u001b[1;32m----> 4\u001b[1;33m \u001b[0mh\u001b[0m\u001b[1;33m(\u001b[0m\u001b[0mx\u001b[0m\u001b[1;33m)\u001b[0m\u001b[1;33m\u001b[0m\u001b[1;33m\u001b[0m\u001b[0m\n\u001b[0m\u001b[0;32m      5\u001b[0m \u001b[0mprint\u001b[0m\u001b[1;33m(\u001b[0m\u001b[0mx\u001b[0m\u001b[1;33m)\u001b[0m\u001b[1;33m\u001b[0m\u001b[1;33m\u001b[0m\u001b[0m\n",
      "\u001b[1;32m~\\AppData\\Local\\Temp/ipykernel_18304/3211324729.py\u001b[0m in \u001b[0;36mh\u001b[1;34m(y)\u001b[0m\n\u001b[0;32m      1\u001b[0m \u001b[1;32mdef\u001b[0m \u001b[0mh\u001b[0m\u001b[1;33m(\u001b[0m\u001b[0my\u001b[0m\u001b[1;33m)\u001b[0m\u001b[1;33m:\u001b[0m\u001b[1;33m\u001b[0m\u001b[1;33m\u001b[0m\u001b[0m\n\u001b[1;32m----> 2\u001b[1;33m     \u001b[0mx\u001b[0m\u001b[1;33m+=\u001b[0m\u001b[1;36m1\u001b[0m\u001b[1;33m\u001b[0m\u001b[1;33m\u001b[0m\u001b[0m\n\u001b[0m\u001b[0;32m      3\u001b[0m \u001b[0mx\u001b[0m\u001b[1;33m=\u001b[0m\u001b[1;36m5\u001b[0m\u001b[1;33m\u001b[0m\u001b[1;33m\u001b[0m\u001b[0m\n\u001b[0;32m      4\u001b[0m \u001b[0mh\u001b[0m\u001b[1;33m(\u001b[0m\u001b[0mx\u001b[0m\u001b[1;33m)\u001b[0m\u001b[1;33m\u001b[0m\u001b[1;33m\u001b[0m\u001b[0m\n\u001b[0;32m      5\u001b[0m \u001b[0mprint\u001b[0m\u001b[1;33m(\u001b[0m\u001b[0mx\u001b[0m\u001b[1;33m)\u001b[0m\u001b[1;33m\u001b[0m\u001b[1;33m\u001b[0m\u001b[0m\n",
      "\u001b[1;31mUnboundLocalError\u001b[0m: local variable 'x' referenced before assignment"
     ]
    }
   ],
   "source": [
    "def h(y):\n",
    "    x+=1\n",
    "x=5\n",
    "h(x)\n",
    "print(x)"
   ]
  },
  {
   "cell_type": "code",
   "execution_count": 33,
   "id": "a1b24d74",
   "metadata": {},
   "outputs": [
    {
     "name": "stdout",
     "output_type": "stream",
     "text": [
      "in f(X):x= 4\n",
      "in main program scope: z= 4\n",
      "in main program scope: x= 3\n"
     ]
    }
   ],
   "source": [
    "def f(x):\n",
    "    x=x+1\n",
    "    print('in f(X):x=',x)\n",
    "    return x\n",
    "x=3\n",
    "z=f(x)\n",
    "print('in main program scope: z=',z)\n",
    "print('in main program scope: x=',x)"
   ]
  },
  {
   "cell_type": "code",
   "execution_count": 34,
   "id": "1fb37de1",
   "metadata": {},
   "outputs": [
    {
     "name": "stdout",
     "output_type": "stream",
     "text": [
      "in g(x): x= 4\n"
     ]
    }
   ],
   "source": [
    "def g(x):\n",
    "    def h():\n",
    "        x='abc'\n",
    "    x=x+1\n",
    "    print('in g(x): x=',x)\n",
    "    h()\n",
    "    return x\n",
    "x=3\n",
    "z=g(x)"
   ]
  },
  {
   "cell_type": "code",
   "execution_count": 40,
   "id": "b9e7eee5",
   "metadata": {},
   "outputs": [
    {
     "name": "stdout",
     "output_type": "stream",
     "text": [
      "<class 'function'> 3000639818192\n"
     ]
    }
   ],
   "source": [
    "#Functions are 1st class citizens\n",
    "def square(num):\n",
    "    return num**2\n",
    "print(type(square),id(square))\n"
   ]
  },
  {
   "cell_type": "code",
   "execution_count": 41,
   "id": "eca31e76",
   "metadata": {},
   "outputs": [
    {
     "data": {
      "text/plain": [
       "16"
      ]
     },
     "execution_count": 41,
     "metadata": {},
     "output_type": "execute_result"
    }
   ],
   "source": [
    "square(4)"
   ]
  },
  {
   "cell_type": "code",
   "execution_count": 42,
   "id": "f9f389c7",
   "metadata": {},
   "outputs": [
    {
     "data": {
      "text/plain": [
       "3000639818192"
      ]
     },
     "execution_count": 42,
     "metadata": {},
     "output_type": "execute_result"
    }
   ],
   "source": [
    "#reassign\n",
    "x=square\n",
    "id(x)"
   ]
  },
  {
   "cell_type": "code",
   "execution_count": 43,
   "id": "9fdd495c",
   "metadata": {},
   "outputs": [],
   "source": [
    "#deleting function\n",
    "del square"
   ]
  },
  {
   "cell_type": "code",
   "execution_count": 44,
   "id": "70e03fd8",
   "metadata": {},
   "outputs": [
    {
     "ename": "NameError",
     "evalue": "name 'square' is not defined",
     "output_type": "error",
     "traceback": [
      "\u001b[1;31m---------------------------------------------------------------------------\u001b[0m",
      "\u001b[1;31mNameError\u001b[0m                                 Traceback (most recent call last)",
      "\u001b[1;32m~\\AppData\\Local\\Temp/ipykernel_18304/1308794440.py\u001b[0m in \u001b[0;36m<module>\u001b[1;34m\u001b[0m\n\u001b[1;32m----> 1\u001b[1;33m \u001b[0msquare\u001b[0m\u001b[1;33m(\u001b[0m\u001b[1;36m2\u001b[0m\u001b[1;33m)\u001b[0m\u001b[1;33m\u001b[0m\u001b[1;33m\u001b[0m\u001b[0m\n\u001b[0m",
      "\u001b[1;31mNameError\u001b[0m: name 'square' is not defined"
     ]
    }
   ],
   "source": [
    "square(2)"
   ]
  },
  {
   "cell_type": "code",
   "execution_count": 45,
   "id": "38ddacc0",
   "metadata": {},
   "outputs": [],
   "source": [
    "#storing\n",
    "def square(num):\n",
    "    return num**2"
   ]
  },
  {
   "cell_type": "code",
   "execution_count": 46,
   "id": "46dbd7b7",
   "metadata": {},
   "outputs": [
    {
     "data": {
      "text/plain": [
       "16"
      ]
     },
     "execution_count": 46,
     "metadata": {},
     "output_type": "execute_result"
    }
   ],
   "source": [
    "L=[1,2,3,square]\n",
    "L[-1](4)"
   ]
  },
  {
   "cell_type": "code",
   "execution_count": 47,
   "id": "5d3670a7",
   "metadata": {},
   "outputs": [
    {
     "data": {
      "text/plain": [
       "{<function __main__.square(num)>}"
      ]
     },
     "execution_count": 47,
     "metadata": {},
     "output_type": "execute_result"
    }
   ],
   "source": [
    "s={square}\n",
    "s"
   ]
  },
  {
   "cell_type": "code",
   "execution_count": 48,
   "id": "04daa6de",
   "metadata": {},
   "outputs": [
    {
     "name": "stdout",
     "output_type": "stream",
     "text": [
      "7\n"
     ]
    }
   ],
   "source": [
    "# returning a function\n",
    "def f():\n",
    "    def x(a,b):\n",
    "        return a+b\n",
    "    return x\n",
    "val=f()(3,4)\n",
    "print(val)"
   ]
  },
  {
   "cell_type": "code",
   "execution_count": 50,
   "id": "7ab152f1",
   "metadata": {},
   "outputs": [
    {
     "name": "stdout",
     "output_type": "stream",
     "text": [
      "inside fun b\n",
      "inside function a\n",
      "None\n"
     ]
    }
   ],
   "source": [
    "# function as argument\n",
    "def fun_a():\n",
    "    print('inside function a')\n",
    "def fun_b(z):\n",
    "    print('inside fun b')\n",
    "    return z()\n",
    "print(fun_b(fun_a))"
   ]
  },
  {
   "cell_type": "raw",
   "id": "876c6854",
   "metadata": {},
   "source": [
    "Benefits of using a Function\n",
    "Code Modularity\n",
    "Code Readibility\n",
    "Code Reusability"
   ]
  },
  {
   "cell_type": "raw",
   "id": "a9865bc3",
   "metadata": {},
   "source": [
    "Lambda Function\n",
    "A lambda function is a small anonymous function.\n",
    "\n",
    "A lambda function can take any number of arguments, but can only have one expression."
   ]
  },
  {
   "cell_type": "raw",
   "id": "ebedd200",
   "metadata": {},
   "source": [
    "lambda a,b:a+b"
   ]
  },
  {
   "cell_type": "code",
   "execution_count": 51,
   "id": "049fb5a3",
   "metadata": {},
   "outputs": [
    {
     "data": {
      "text/plain": [
       "<function __main__.<lambda>(x)>"
      ]
     },
     "execution_count": 51,
     "metadata": {},
     "output_type": "execute_result"
    }
   ],
   "source": [
    "lambda x:x**2"
   ]
  },
  {
   "cell_type": "code",
   "execution_count": 52,
   "id": "641e44a6",
   "metadata": {},
   "outputs": [
    {
     "data": {
      "text/plain": [
       "12"
      ]
     },
     "execution_count": 52,
     "metadata": {},
     "output_type": "execute_result"
    }
   ],
   "source": [
    "a=lambda a,b:a+b\n",
    "a(5,7)"
   ]
  },
  {
   "cell_type": "raw",
   "id": "8d008114",
   "metadata": {},
   "source": [
    "Diff between lambda vs Normal Function\n",
    "No name\n",
    "lambda has no return value(infact,returns a function)\n",
    "lambda is written in 1 line\n",
    "not reusable\n",
    "Then why use lambda functions?\n",
    "They are used with HOF"
   ]
  },
  {
   "cell_type": "raw",
   "id": "226e08c1",
   "metadata": {},
   "source": [
    "Lambda functions are commonly used in conjunction with higher-order functions (HOFs) such as map, filter, and reduce. Higher-order functions are functions that either take one or more functions as arguments or return a function as a result"
   ]
  },
  {
   "cell_type": "code",
   "execution_count": 53,
   "id": "307a15b2",
   "metadata": {},
   "outputs": [
    {
     "data": {
      "text/plain": [
       "True"
      ]
     },
     "execution_count": 53,
     "metadata": {},
     "output_type": "execute_result"
    }
   ],
   "source": [
    "a=lambda s:'a' in s\n",
    "a('aai')"
   ]
  },
  {
   "cell_type": "code",
   "execution_count": 54,
   "id": "151918b1",
   "metadata": {},
   "outputs": [
    {
     "data": {
      "text/plain": [
       "'odd'"
      ]
     },
     "execution_count": 54,
     "metadata": {},
     "output_type": "execute_result"
    }
   ],
   "source": [
    "a=lambda num:'even' if num%2==0 else 'odd'\n",
    "a(3)"
   ]
  },
  {
   "cell_type": "code",
   "execution_count": 55,
   "id": "253c80a1",
   "metadata": {},
   "outputs": [
    {
     "name": "stdout",
     "output_type": "stream",
     "text": [
      "[1, 8, 27, 64, 125]\n"
     ]
    }
   ],
   "source": [
    "def square(x):\n",
    "    return x**2\n",
    "def cube(x):\n",
    "    return x**3\n",
    "#hof\n",
    "def transform(f,L):\n",
    "    op=[]\n",
    "    for i in L:\n",
    "        op.append(f(i))\n",
    "    print(op)\n",
    "L=[1,2,3,4,5]\n",
    "transform(lambda x:x**3,L)\n",
    "    "
   ]
  },
  {
   "cell_type": "code",
   "execution_count": 58,
   "id": "544c66a9",
   "metadata": {},
   "outputs": [],
   "source": [
    "#map\n",
    "a=map(lambda x:x**2,[1,2,3,4])"
   ]
  },
  {
   "cell_type": "code",
   "execution_count": 59,
   "id": "d77f5a33",
   "metadata": {},
   "outputs": [
    {
     "data": {
      "text/plain": [
       "<map at 0x2baa4418c70>"
      ]
     },
     "execution_count": 59,
     "metadata": {},
     "output_type": "execute_result"
    }
   ],
   "source": [
    "a"
   ]
  },
  {
   "cell_type": "code",
   "execution_count": 60,
   "id": "fa8f5c18",
   "metadata": {},
   "outputs": [
    {
     "data": {
      "text/plain": [
       "[1, 4, 9, 16]"
      ]
     },
     "execution_count": 60,
     "metadata": {},
     "output_type": "execute_result"
    }
   ],
   "source": [
    "list(a)"
   ]
  },
  {
   "cell_type": "code",
   "execution_count": 61,
   "id": "5ec12c31",
   "metadata": {},
   "outputs": [],
   "source": [
    "a=map(lambda x:'even' if x%2==0 else 'odd',[1,2,3])"
   ]
  },
  {
   "cell_type": "code",
   "execution_count": 62,
   "id": "2df86ceb",
   "metadata": {},
   "outputs": [
    {
     "data": {
      "text/plain": [
       "<map at 0x2baa44183d0>"
      ]
     },
     "execution_count": 62,
     "metadata": {},
     "output_type": "execute_result"
    }
   ],
   "source": [
    "a"
   ]
  },
  {
   "cell_type": "code",
   "execution_count": 63,
   "id": "b0baa872",
   "metadata": {},
   "outputs": [
    {
     "data": {
      "text/plain": [
       "['odd', 'even', 'odd']"
      ]
     },
     "execution_count": 63,
     "metadata": {},
     "output_type": "execute_result"
    }
   ],
   "source": [
    "list(a)"
   ]
  },
  {
   "cell_type": "code",
   "execution_count": 64,
   "id": "75a3f262",
   "metadata": {},
   "outputs": [],
   "source": [
    "users = [\n",
    "    {\n",
    "        'name':'Rahul',\n",
    "        'age':45,\n",
    "        'gender':'male'\n",
    "    },\n",
    "    {\n",
    "        'name':'Nitish',\n",
    "        'age':33,\n",
    "        'gender':'male'\n",
    "    },\n",
    "    {\n",
    "        'name':'Ankita',\n",
    "        'age':50,\n",
    "        'gender':'female'\n",
    "    }\n",
    "]"
   ]
  },
  {
   "cell_type": "code",
   "execution_count": 65,
   "id": "2176fad2",
   "metadata": {},
   "outputs": [
    {
     "data": {
      "text/plain": [
       "['male', 'male', 'female']"
      ]
     },
     "execution_count": 65,
     "metadata": {},
     "output_type": "execute_result"
    }
   ],
   "source": [
    "list(map(lambda users:users['gender'],users))"
   ]
  },
  {
   "cell_type": "code",
   "execution_count": 69,
   "id": "0745a554",
   "metadata": {},
   "outputs": [],
   "source": [
    "#filter\n",
    "L=[12,5,6,3,5,55]\n",
    "a=filter(lambda num:num>5,L)"
   ]
  },
  {
   "cell_type": "code",
   "execution_count": 70,
   "id": "13a153a6",
   "metadata": {},
   "outputs": [
    {
     "data": {
      "text/plain": [
       "<filter at 0x2baa4ca0f10>"
      ]
     },
     "execution_count": 70,
     "metadata": {},
     "output_type": "execute_result"
    }
   ],
   "source": [
    "a"
   ]
  },
  {
   "cell_type": "code",
   "execution_count": 71,
   "id": "76b39c3f",
   "metadata": {},
   "outputs": [
    {
     "data": {
      "text/plain": [
       "[12, 6, 55]"
      ]
     },
     "execution_count": 71,
     "metadata": {},
     "output_type": "execute_result"
    }
   ],
   "source": [
    "list(a)"
   ]
  },
  {
   "cell_type": "code",
   "execution_count": 72,
   "id": "dcb7e44e",
   "metadata": {},
   "outputs": [
    {
     "data": {
      "text/plain": [
       "['apple']"
      ]
     },
     "execution_count": 72,
     "metadata": {},
     "output_type": "execute_result"
    }
   ],
   "source": [
    "# fetch fruits starting with 'a'\n",
    "fruits = ['apple','guava','cherry']\n",
    "list(filter(lambda x:x.startswith('a'),fruits))"
   ]
  },
  {
   "cell_type": "code",
   "execution_count": 73,
   "id": "aa4d3e69",
   "metadata": {},
   "outputs": [
    {
     "data": {
      "text/plain": [
       "15"
      ]
     },
     "execution_count": 73,
     "metadata": {},
     "output_type": "execute_result"
    }
   ],
   "source": [
    "#reduce\n",
    "# sum of all item\n",
    "import functools\n",
    "functools.reduce(lambda x,y:x+y,[1,2,3,4,5])"
   ]
  },
  {
   "cell_type": "code",
   "execution_count": 74,
   "id": "13f0a459",
   "metadata": {},
   "outputs": [
    {
     "data": {
      "text/plain": [
       "88"
      ]
     },
     "execution_count": 74,
     "metadata": {},
     "output_type": "execute_result"
    }
   ],
   "source": [
    "functools.reduce(lambda x,y:x if x>y else y,[1,2,3,4,55,6,88]) #find max"
   ]
  },
  {
   "cell_type": "code",
   "execution_count": 75,
   "id": "b10e51af",
   "metadata": {},
   "outputs": [
    {
     "data": {
      "text/plain": [
       "1"
      ]
     },
     "execution_count": 75,
     "metadata": {},
     "output_type": "execute_result"
    }
   ],
   "source": [
    "functools.reduce(lambda x,y:x if x<y else y,[1,2,3,4,55,6,88]) #find min"
   ]
  },
  {
   "cell_type": "code",
   "execution_count": null,
   "id": "cc26f226",
   "metadata": {},
   "outputs": [],
   "source": []
  }
 ],
 "metadata": {
  "kernelspec": {
   "display_name": "Python 3 (ipykernel)",
   "language": "python",
   "name": "python3"
  },
  "language_info": {
   "codemirror_mode": {
    "name": "ipython",
    "version": 3
   },
   "file_extension": ".py",
   "mimetype": "text/x-python",
   "name": "python",
   "nbconvert_exporter": "python",
   "pygments_lexer": "ipython3",
   "version": "3.9.7"
  }
 },
 "nbformat": 4,
 "nbformat_minor": 5
}
