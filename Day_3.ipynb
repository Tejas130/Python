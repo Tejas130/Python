{
 "cells": [
  {
   "cell_type": "raw",
   "id": "115a200b",
   "metadata": {},
   "source": [
    "# Program - The current population of a town is 10000. The population of the town is increasing at the rate of 10% per year. You have to write a program to find out the population at the end of each of the last 10 years."
   ]
  },
  {
   "cell_type": "code",
   "execution_count": 6,
   "id": "a4a5dc05",
   "metadata": {},
   "outputs": [
    {
     "name": "stdout",
     "output_type": "stream",
     "text": [
      "Population at the end of year 1: 1100\n",
      "Population at the end of year 2: 1210\n",
      "Population at the end of year 3: 1331\n",
      "Population at the end of year 4: 1464\n",
      "Population at the end of year 5: 1610\n",
      "Population at the end of year 6: 1771\n",
      "Population at the end of year 7: 1948\n",
      "Population at the end of year 8: 2143\n",
      "Population at the end of year 9: 2357\n",
      "Population at the end of year 10: 2593\n"
     ]
    }
   ],
   "source": [
    "curr_pop=1000\n",
    "for i in range(1,11):\n",
    "    curr_pop=curr_pop +(curr_pop*0.1)\n",
    "    print(f\"Population at the end of year {i}: {int(curr_pop)}\")"
   ]
  },
  {
   "cell_type": "raw",
   "id": "f861e4f5",
   "metadata": {},
   "source": [
    "Sequence sum\n",
    "1/1! + 2/2! + 3/3! + ..."
   ]
  },
  {
   "cell_type": "code",
   "execution_count": 11,
   "id": "7ecc4719",
   "metadata": {},
   "outputs": [
    {
     "name": "stdout",
     "output_type": "stream",
     "text": [
      "enter the number2\n",
      "1.0\n",
      "2.0\n"
     ]
    }
   ],
   "source": [
    "n=int(input('enter the number'))\n",
    "fact=1\n",
    "result=0\n",
    "\n",
    "for i in range(1,n+1):\n",
    "    fact= fact*i\n",
    "    result= result + i/fact\n",
    "    print(result)"
   ]
  },
  {
   "cell_type": "raw",
   "id": "4624824b",
   "metadata": {},
   "source": [
    "\n",
    "Nested loops refer to the situation when one loop is present inside another loop. This allows for more complex iterations and can be useful in solving certain types of problems."
   ]
  },
  {
   "cell_type": "code",
   "execution_count": 12,
   "id": "3ecdd73e",
   "metadata": {},
   "outputs": [
    {
     "name": "stdout",
     "output_type": "stream",
     "text": [
      "apple red\n",
      "apple yellow\n",
      "apple brown\n",
      "banana red\n",
      "banana yellow\n",
      "banana brown\n",
      "chiku red\n",
      "chiku yellow\n",
      "chiku brown\n"
     ]
    }
   ],
   "source": [
    "fruits=['apple','banana','chiku']\n",
    "colors=['red','yellow','brown']\n",
    "for fruit in fruits:\n",
    "    for color in colors:\n",
    "        print(fruit,color)"
   ]
  },
  {
   "cell_type": "code",
   "execution_count": 13,
   "id": "4e5c9aea",
   "metadata": {},
   "outputs": [
    {
     "name": "stdout",
     "output_type": "stream",
     "text": [
      "1 1\n",
      "1 2\n",
      "1 3\n",
      "1 4\n",
      "2 1\n",
      "2 2\n",
      "2 3\n",
      "2 4\n",
      "3 1\n",
      "3 2\n",
      "3 3\n",
      "3 4\n",
      "4 1\n",
      "4 2\n",
      "4 3\n",
      "4 4\n"
     ]
    }
   ],
   "source": [
    "for i in range(1,5):\n",
    "    for j in range(1,5):\n",
    "        print(i,j)"
   ]
  },
  {
   "cell_type": "raw",
   "id": "963f3c18",
   "metadata": {},
   "source": [
    "Pattern 1\n",
    "*\n",
    "**\n",
    "***"
   ]
  },
  {
   "cell_type": "code",
   "execution_count": 1,
   "id": "ba617f3e",
   "metadata": {},
   "outputs": [
    {
     "name": "stdout",
     "output_type": "stream",
     "text": [
      "enter a number5\n",
      "* \n",
      "* * \n",
      "* * * \n",
      "* * * * \n",
      "* * * * * \n"
     ]
    }
   ],
   "source": [
    "rows=int(input('enter a number'))\n",
    "\n",
    "for i in range(1,rows+1):\n",
    "    for j in range(1,i+1):\n",
    "        print('*',end=' ')\n",
    "    print()"
   ]
  },
  {
   "cell_type": "raw",
   "id": "393c948a",
   "metadata": {},
   "source": [
    "Pattern 2\n",
    "1\n",
    "121\n",
    "12321\n",
    "1234321"
   ]
  },
  {
   "cell_type": "code",
   "execution_count": 3,
   "id": "af6cd38b",
   "metadata": {},
   "outputs": [
    {
     "name": "stdout",
     "output_type": "stream",
     "text": [
      "enter a number of rows5\n",
      "1\n",
      "121\n",
      "12321\n",
      "1234321\n",
      "123454321\n"
     ]
    }
   ],
   "source": [
    "rows=int(input('enter a number of rows'))\n",
    "\n",
    "for i in range(1,rows+1):\n",
    "    for j in range(1,i+1):\n",
    "        print(j,end='')\n",
    "    for k in range(i-1,0,-1):\n",
    "        print(k,end='')\n",
    "    print()"
   ]
  },
  {
   "cell_type": "code",
   "execution_count": 4,
   "id": "150c6d2a",
   "metadata": {},
   "outputs": [
    {
     "name": "stdout",
     "output_type": "stream",
     "text": [
      "1\n",
      "2\n"
     ]
    }
   ],
   "source": [
    "#break\n",
    "\n",
    "for i in range(1,6):\n",
    "    if i ==3:\n",
    "        break\n",
    "    print(i)"
   ]
  },
  {
   "cell_type": "code",
   "execution_count": 5,
   "id": "3480c13c",
   "metadata": {},
   "outputs": [
    {
     "name": "stdout",
     "output_type": "stream",
     "text": [
      "1\n",
      "2\n",
      "4\n",
      "5\n"
     ]
    }
   ],
   "source": [
    "#continue\n",
    "for i in range(1,6):\n",
    "    if i ==3:\n",
    "        continue\n",
    "    print(i)"
   ]
  },
  {
   "cell_type": "raw",
   "id": "1bfc5099",
   "metadata": {},
   "source": [
    "#pass\n",
    "pass statement is a placeholder statement that does nothing. It is used when a statement is syntactically required, but no action is needed. It is commonly used as a placeholder for future code or to create an empty function or class."
   ]
  },
  {
   "cell_type": "code",
   "execution_count": 6,
   "id": "5df78ed6",
   "metadata": {},
   "outputs": [
    {
     "name": "stdout",
     "output_type": "stream",
     "text": [
      "1\n",
      "2\n",
      "4\n",
      "5\n"
     ]
    }
   ],
   "source": [
    "#pass\n",
    "for i in range(1,6):\n",
    "    if i ==3:\n",
    "        pass\n",
    "    \n",
    "    else:\n",
    "        print(i)"
   ]
  },
  {
   "cell_type": "code",
   "execution_count": 12,
   "id": "ada4173c",
   "metadata": {},
   "outputs": [
    {
     "name": "stdout",
     "output_type": "stream",
     "text": [
      "enter a number10\n",
      "enter a number100\n",
      "11\n",
      "11\n",
      "11\n",
      "11\n",
      "11\n",
      "11\n",
      "11\n",
      "11\n",
      "11\n",
      "13\n",
      "13\n",
      "13\n",
      "13\n",
      "13\n",
      "13\n",
      "13\n",
      "13\n",
      "13\n",
      "13\n",
      "13\n",
      "15\n",
      "17\n",
      "17\n",
      "17\n",
      "17\n",
      "17\n",
      "17\n",
      "17\n",
      "17\n",
      "17\n",
      "17\n",
      "17\n",
      "17\n",
      "17\n",
      "17\n",
      "17\n",
      "19\n",
      "19\n",
      "19\n",
      "19\n",
      "19\n",
      "19\n",
      "19\n",
      "19\n",
      "19\n",
      "19\n",
      "19\n",
      "19\n",
      "19\n",
      "19\n",
      "19\n",
      "19\n",
      "19\n",
      "21\n",
      "23\n",
      "23\n",
      "23\n",
      "23\n",
      "23\n",
      "23\n",
      "23\n",
      "23\n",
      "23\n",
      "23\n",
      "23\n",
      "23\n",
      "23\n",
      "23\n",
      "23\n",
      "23\n",
      "23\n",
      "23\n",
      "23\n",
      "23\n",
      "23\n",
      "25\n",
      "25\n",
      "25\n",
      "27\n",
      "29\n",
      "29\n",
      "29\n",
      "29\n",
      "29\n",
      "29\n",
      "29\n",
      "29\n",
      "29\n",
      "29\n",
      "29\n",
      "29\n",
      "29\n",
      "29\n",
      "29\n",
      "29\n",
      "29\n",
      "29\n",
      "29\n",
      "29\n",
      "29\n",
      "29\n",
      "29\n",
      "29\n",
      "29\n",
      "29\n",
      "29\n",
      "31\n",
      "31\n",
      "31\n",
      "31\n",
      "31\n",
      "31\n",
      "31\n",
      "31\n",
      "31\n",
      "31\n",
      "31\n",
      "31\n",
      "31\n",
      "31\n",
      "31\n",
      "31\n",
      "31\n",
      "31\n",
      "31\n",
      "31\n",
      "31\n",
      "31\n",
      "31\n",
      "31\n",
      "31\n",
      "31\n",
      "31\n",
      "31\n",
      "31\n",
      "33\n",
      "35\n",
      "35\n",
      "35\n",
      "37\n",
      "37\n",
      "37\n",
      "37\n",
      "37\n",
      "37\n",
      "37\n",
      "37\n",
      "37\n",
      "37\n",
      "37\n",
      "37\n",
      "37\n",
      "37\n",
      "37\n",
      "37\n",
      "37\n",
      "37\n",
      "37\n",
      "37\n",
      "37\n",
      "37\n",
      "37\n",
      "37\n",
      "37\n",
      "37\n",
      "37\n",
      "37\n",
      "37\n",
      "37\n",
      "37\n",
      "37\n",
      "37\n",
      "37\n",
      "37\n",
      "39\n",
      "41\n",
      "41\n",
      "41\n",
      "41\n",
      "41\n",
      "41\n",
      "41\n",
      "41\n",
      "41\n",
      "41\n",
      "41\n",
      "41\n",
      "41\n",
      "41\n",
      "41\n",
      "41\n",
      "41\n",
      "41\n",
      "41\n",
      "41\n",
      "41\n",
      "41\n",
      "41\n",
      "41\n",
      "41\n",
      "41\n",
      "41\n",
      "41\n",
      "41\n",
      "41\n",
      "41\n",
      "41\n",
      "41\n",
      "41\n",
      "41\n",
      "41\n",
      "41\n",
      "41\n",
      "41\n",
      "43\n",
      "43\n",
      "43\n",
      "43\n",
      "43\n",
      "43\n",
      "43\n",
      "43\n",
      "43\n",
      "43\n",
      "43\n",
      "43\n",
      "43\n",
      "43\n",
      "43\n",
      "43\n",
      "43\n",
      "43\n",
      "43\n",
      "43\n",
      "43\n",
      "43\n",
      "43\n",
      "43\n",
      "43\n",
      "43\n",
      "43\n",
      "43\n",
      "43\n",
      "43\n",
      "43\n",
      "43\n",
      "43\n",
      "43\n",
      "43\n",
      "43\n",
      "43\n",
      "43\n",
      "43\n",
      "43\n",
      "43\n",
      "45\n",
      "47\n",
      "47\n",
      "47\n",
      "47\n",
      "47\n",
      "47\n",
      "47\n",
      "47\n",
      "47\n",
      "47\n",
      "47\n",
      "47\n",
      "47\n",
      "47\n",
      "47\n",
      "47\n",
      "47\n",
      "47\n",
      "47\n",
      "47\n",
      "47\n",
      "47\n",
      "47\n",
      "47\n",
      "47\n",
      "47\n",
      "47\n",
      "47\n",
      "47\n",
      "47\n",
      "47\n",
      "47\n",
      "47\n",
      "47\n",
      "47\n",
      "47\n",
      "47\n",
      "47\n",
      "47\n",
      "47\n",
      "47\n",
      "47\n",
      "47\n",
      "47\n",
      "47\n",
      "49\n",
      "49\n",
      "49\n",
      "49\n",
      "49\n",
      "51\n",
      "53\n",
      "53\n",
      "53\n",
      "53\n",
      "53\n",
      "53\n",
      "53\n",
      "53\n",
      "53\n",
      "53\n",
      "53\n",
      "53\n",
      "53\n",
      "53\n",
      "53\n",
      "53\n",
      "53\n",
      "53\n",
      "53\n",
      "53\n",
      "53\n",
      "53\n",
      "53\n",
      "53\n",
      "53\n",
      "53\n",
      "53\n",
      "53\n",
      "53\n",
      "53\n",
      "53\n",
      "53\n",
      "53\n",
      "53\n",
      "53\n",
      "53\n",
      "53\n",
      "53\n",
      "53\n",
      "53\n",
      "53\n",
      "53\n",
      "53\n",
      "53\n",
      "53\n",
      "53\n",
      "53\n",
      "53\n",
      "53\n",
      "53\n",
      "53\n",
      "55\n",
      "55\n",
      "55\n",
      "57\n",
      "59\n",
      "59\n",
      "59\n",
      "59\n",
      "59\n",
      "59\n",
      "59\n",
      "59\n",
      "59\n",
      "59\n",
      "59\n",
      "59\n",
      "59\n",
      "59\n",
      "59\n",
      "59\n",
      "59\n",
      "59\n",
      "59\n",
      "59\n",
      "59\n",
      "59\n",
      "59\n",
      "59\n",
      "59\n",
      "59\n",
      "59\n",
      "59\n",
      "59\n",
      "59\n",
      "59\n",
      "59\n",
      "59\n",
      "59\n",
      "59\n",
      "59\n",
      "59\n",
      "59\n",
      "59\n",
      "59\n",
      "59\n",
      "59\n",
      "59\n",
      "59\n",
      "59\n",
      "59\n",
      "59\n",
      "59\n",
      "59\n",
      "59\n",
      "59\n",
      "59\n",
      "59\n",
      "59\n",
      "59\n",
      "59\n",
      "59\n",
      "61\n",
      "61\n",
      "61\n",
      "61\n",
      "61\n",
      "61\n",
      "61\n",
      "61\n",
      "61\n",
      "61\n",
      "61\n",
      "61\n",
      "61\n",
      "61\n",
      "61\n",
      "61\n",
      "61\n",
      "61\n",
      "61\n",
      "61\n",
      "61\n",
      "61\n",
      "61\n",
      "61\n",
      "61\n",
      "61\n",
      "61\n",
      "61\n",
      "61\n",
      "61\n",
      "61\n",
      "61\n",
      "61\n",
      "61\n",
      "61\n",
      "61\n",
      "61\n",
      "61\n",
      "61\n",
      "61\n",
      "61\n",
      "61\n",
      "61\n",
      "61\n",
      "61\n",
      "61\n",
      "61\n",
      "61\n",
      "61\n",
      "61\n",
      "61\n",
      "61\n",
      "61\n",
      "61\n",
      "61\n",
      "61\n",
      "61\n",
      "61\n",
      "61\n",
      "63\n",
      "65\n",
      "65\n",
      "65\n",
      "67\n",
      "67\n",
      "67\n",
      "67\n",
      "67\n",
      "67\n",
      "67\n",
      "67\n",
      "67\n",
      "67\n",
      "67\n",
      "67\n",
      "67\n",
      "67\n",
      "67\n",
      "67\n",
      "67\n",
      "67\n",
      "67\n",
      "67\n",
      "67\n",
      "67\n",
      "67\n",
      "67\n",
      "67\n",
      "67\n",
      "67\n",
      "67\n",
      "67\n",
      "67\n",
      "67\n",
      "67\n",
      "67\n",
      "67\n",
      "67\n",
      "67\n",
      "67\n",
      "67\n",
      "67\n",
      "67\n",
      "67\n",
      "67\n",
      "67\n",
      "67\n",
      "67\n",
      "67\n",
      "67\n",
      "67\n",
      "67\n",
      "67\n",
      "67\n",
      "67\n",
      "67\n",
      "67\n",
      "67\n",
      "67\n",
      "67\n",
      "67\n",
      "67\n",
      "67\n",
      "67\n",
      "67\n",
      "67\n",
      "67\n",
      "67\n",
      "69\n",
      "71\n",
      "71\n",
      "71\n",
      "71\n",
      "71\n",
      "71\n",
      "71\n",
      "71\n",
      "71\n",
      "71\n",
      "71\n",
      "71\n",
      "71\n",
      "71\n",
      "71\n",
      "71\n",
      "71\n",
      "71\n",
      "71\n",
      "71\n",
      "71\n",
      "71\n",
      "71\n",
      "71\n",
      "71\n",
      "71\n",
      "71\n",
      "71\n",
      "71\n",
      "71\n",
      "71\n",
      "71\n",
      "71\n",
      "71\n",
      "71\n",
      "71\n",
      "71\n",
      "71\n",
      "71\n",
      "71\n",
      "71\n",
      "71\n",
      "71\n",
      "71\n",
      "71\n",
      "71\n",
      "71\n",
      "71\n",
      "71\n",
      "71\n",
      "71\n",
      "71\n",
      "71\n",
      "71\n",
      "71\n",
      "71\n",
      "71\n",
      "71\n",
      "71\n",
      "71\n",
      "71\n",
      "71\n",
      "71\n",
      "71\n",
      "71\n",
      "71\n",
      "71\n",
      "71\n",
      "71\n",
      "73\n",
      "73\n",
      "73\n",
      "73\n",
      "73\n",
      "73\n",
      "73\n",
      "73\n",
      "73\n",
      "73\n",
      "73\n",
      "73\n",
      "73\n",
      "73\n",
      "73\n",
      "73\n",
      "73\n",
      "73\n",
      "73\n",
      "73\n",
      "73\n",
      "73\n",
      "73\n",
      "73\n",
      "73\n",
      "73\n",
      "73\n",
      "73\n",
      "73\n",
      "73\n",
      "73\n",
      "73\n",
      "73\n",
      "73\n",
      "73\n",
      "73\n",
      "73\n",
      "73\n",
      "73\n",
      "73\n",
      "73\n",
      "73\n",
      "73\n",
      "73\n",
      "73\n",
      "73\n",
      "73\n",
      "73\n",
      "73\n",
      "73\n",
      "73\n",
      "73\n",
      "73\n",
      "73\n",
      "73\n",
      "73\n",
      "73\n",
      "73\n",
      "73\n",
      "73\n",
      "73\n",
      "73\n",
      "73\n",
      "73\n",
      "73\n",
      "73\n",
      "73\n",
      "73\n",
      "73\n",
      "73\n",
      "73\n",
      "75\n",
      "77\n",
      "77\n",
      "77\n",
      "77\n",
      "77\n",
      "79\n",
      "79\n",
      "79\n",
      "79\n",
      "79\n",
      "79\n",
      "79\n",
      "79\n",
      "79\n",
      "79\n",
      "79\n",
      "79\n",
      "79\n",
      "79\n",
      "79\n",
      "79\n",
      "79\n",
      "79\n",
      "79\n",
      "79\n",
      "79\n",
      "79\n",
      "79\n",
      "79\n",
      "79\n",
      "79\n",
      "79\n",
      "79\n",
      "79\n",
      "79\n",
      "79\n",
      "79\n",
      "79\n",
      "79\n",
      "79\n",
      "79\n",
      "79\n",
      "79\n",
      "79\n",
      "79\n",
      "79\n",
      "79\n",
      "79\n",
      "79\n",
      "79\n",
      "79\n",
      "79\n",
      "79\n",
      "79\n",
      "79\n",
      "79\n",
      "79\n",
      "79\n",
      "79\n",
      "79\n",
      "79\n",
      "79\n",
      "79\n",
      "79\n",
      "79\n",
      "79\n",
      "79\n",
      "79\n",
      "79\n",
      "79\n",
      "79\n",
      "79\n",
      "79\n",
      "79\n",
      "79\n",
      "79\n",
      "79\n",
      "79\n",
      "79\n",
      "79\n",
      "79\n",
      "79\n",
      "81\n",
      "83\n",
      "83\n",
      "83\n",
      "83\n",
      "83\n",
      "83\n",
      "83\n",
      "83\n",
      "83\n",
      "83\n",
      "83\n",
      "83\n",
      "83\n",
      "83\n",
      "83\n",
      "83\n",
      "83\n",
      "83\n",
      "83\n",
      "83\n",
      "83\n",
      "83\n",
      "83\n",
      "83\n",
      "83\n",
      "83\n",
      "83\n",
      "83\n",
      "83\n",
      "83\n",
      "83\n",
      "83\n",
      "83\n",
      "83\n",
      "83\n",
      "83\n",
      "83\n",
      "83\n",
      "83\n",
      "83\n",
      "83\n",
      "83\n",
      "83\n",
      "83\n",
      "83\n",
      "83\n",
      "83\n",
      "83\n",
      "83\n",
      "83\n",
      "83\n",
      "83\n",
      "83\n",
      "83\n",
      "83\n",
      "83\n",
      "83\n",
      "83\n",
      "83\n",
      "83\n",
      "83\n",
      "83\n",
      "83\n",
      "83\n",
      "83\n",
      "83\n",
      "83\n",
      "83\n",
      "83\n",
      "83\n",
      "83\n",
      "83\n",
      "83\n",
      "83\n",
      "83\n",
      "83\n",
      "83\n",
      "83\n",
      "83\n",
      "83\n",
      "83\n",
      "85\n",
      "85\n",
      "85\n",
      "87\n",
      "89\n",
      "89\n",
      "89\n",
      "89\n",
      "89\n",
      "89\n",
      "89\n",
      "89\n",
      "89\n",
      "89\n",
      "89\n",
      "89\n",
      "89\n",
      "89\n",
      "89\n",
      "89\n",
      "89\n",
      "89\n",
      "89\n",
      "89\n",
      "89\n",
      "89\n",
      "89\n",
      "89\n",
      "89\n",
      "89\n",
      "89\n",
      "89\n",
      "89\n",
      "89\n",
      "89\n",
      "89\n",
      "89\n",
      "89\n",
      "89\n",
      "89\n",
      "89\n",
      "89\n",
      "89\n",
      "89\n",
      "89\n",
      "89\n",
      "89\n",
      "89\n",
      "89\n",
      "89\n",
      "89\n",
      "89\n",
      "89\n",
      "89\n",
      "89\n",
      "89\n",
      "89\n",
      "89\n",
      "89\n",
      "89\n",
      "89\n",
      "89\n",
      "89\n",
      "89\n",
      "89\n",
      "89\n",
      "89\n",
      "89\n",
      "89\n",
      "89\n",
      "89\n",
      "89\n",
      "89\n",
      "89\n",
      "89\n",
      "89\n",
      "89\n",
      "89\n",
      "89\n",
      "89\n",
      "89\n",
      "89\n",
      "89\n",
      "89\n",
      "89\n",
      "89\n",
      "89\n",
      "89\n",
      "89\n",
      "89\n",
      "89\n",
      "91\n",
      "91\n",
      "91\n",
      "91\n",
      "91\n",
      "93\n",
      "95\n",
      "95\n",
      "95\n",
      "97\n",
      "97\n",
      "97\n",
      "97\n",
      "97\n",
      "97\n",
      "97\n",
      "97\n",
      "97\n",
      "97\n",
      "97\n",
      "97\n",
      "97\n",
      "97\n",
      "97\n",
      "97\n",
      "97\n",
      "97\n",
      "97\n",
      "97\n",
      "97\n",
      "97\n",
      "97\n",
      "97\n",
      "97\n",
      "97\n",
      "97\n",
      "97\n",
      "97\n",
      "97\n",
      "97\n",
      "97\n",
      "97\n",
      "97\n",
      "97\n",
      "97\n",
      "97\n",
      "97\n",
      "97\n",
      "97\n",
      "97\n",
      "97\n",
      "97\n",
      "97\n",
      "97\n",
      "97\n",
      "97\n",
      "97\n",
      "97\n",
      "97\n",
      "97\n",
      "97\n",
      "97\n",
      "97\n",
      "97\n",
      "97\n",
      "97\n",
      "97\n",
      "97\n",
      "97\n",
      "97\n",
      "97\n",
      "97\n",
      "97\n",
      "97\n",
      "97\n",
      "97\n",
      "97\n",
      "97\n",
      "97\n",
      "97\n",
      "97\n",
      "97\n",
      "97\n",
      "97\n",
      "97\n",
      "97\n",
      "97\n",
      "97\n",
      "97\n",
      "97\n",
      "97\n",
      "97\n",
      "97\n",
      "97\n",
      "97\n",
      "97\n",
      "97\n",
      "97\n",
      "97\n",
      "97\n",
      "97\n",
      "97\n",
      "97\n",
      "97\n",
      "99\n"
     ]
    }
   ],
   "source": [
    "lower=int(input('enter a number'))\n",
    "upper=int(input('enter a number'))\n",
    "\n",
    "for i in range(lower,upper+1):\n",
    "    for j in range(2,i):\n",
    "        if i%j == 0:\n",
    "            break\n",
    "        else:\n",
    "            print(i)\n",
    "    # prime starts from 2 \n",
    "        "
   ]
  },
  {
   "cell_type": "markdown",
   "id": "b042ef90",
   "metadata": {},
   "source": [
    "# creating string"
   ]
  },
  {
   "cell_type": "code",
   "execution_count": 17,
   "id": "55378214",
   "metadata": {},
   "outputs": [
    {
     "name": "stdout",
     "output_type": "stream",
     "text": [
      "sagar\n",
      "hi ,hello\n",
      "hie sagar,how wre you\n"
     ]
    }
   ],
   "source": [
    "my_str='sagar'\n",
    "print(my_str)  #single quoted\n",
    "\n",
    "my_str1=\"hi ,hello\" \n",
    "print(my_str1) #double qouted\n",
    "\n",
    "my_str2='''hie sagar,how wre you'''\n",
    "print(my_str2) #triple qouted\n",
    "\n"
   ]
  },
  {
   "cell_type": "code",
   "execution_count": 18,
   "id": "2526ac92",
   "metadata": {},
   "outputs": [],
   "source": [
    "my_string = \"\"\n"
   ]
  },
  {
   "cell_type": "code",
   "execution_count": 19,
   "id": "9c68a391",
   "metadata": {},
   "outputs": [
    {
     "name": "stdout",
     "output_type": "stream",
     "text": [
      "\n"
     ]
    }
   ],
   "source": [
    "print(my_string) #empty string"
   ]
  },
  {
   "cell_type": "raw",
   "id": "52043ba6",
   "metadata": {},
   "source": [
    "### Accessing Substrings from a String\n",
    "Indexing: Indexing allows you to access individual characters in a string by referring to their position or index. In Python, indexing starts from 0 for the first character, and negative indexing starts from -1 for the last character"
   ]
  },
  {
   "cell_type": "code",
   "execution_count": 22,
   "id": "986f9b53",
   "metadata": {},
   "outputs": [
    {
     "name": "stdout",
     "output_type": "stream",
     "text": [
      "e\n",
      "llo\n",
      "d\n",
      "dlrow olleh\n"
     ]
    }
   ],
   "source": [
    "s='hello world'\n",
    "print(s[1])\n",
    "print(s[2:5])\n",
    "print(s[-1])\n",
    "print(s[::-1])"
   ]
  },
  {
   "cell_type": "code",
   "execution_count": 26,
   "id": "b6bd9afb",
   "metadata": {},
   "outputs": [
    {
     "name": "stdout",
     "output_type": "stream",
     "text": [
      " world\n"
     ]
    }
   ],
   "source": [
    "print(s[-6::1])"
   ]
  },
  {
   "cell_type": "raw",
   "id": "f2b4aa81",
   "metadata": {},
   "source": [
    "In Python, strings are immutable, meaning they cannot be changed once created. However, you can perform various operations to create new strings with modified content\n",
    "\n",
    "1]Deleting Characters: You cannot directly delete characters from a string, but you can create a new string by excluding the characters you want to delete.\n",
    "2]Editing Characters: To edit or replace characters in a string, you need to create a new string with the desired modifications.\n"
   ]
  },
  {
   "cell_type": "code",
   "execution_count": 32,
   "id": "5810016c",
   "metadata": {},
   "outputs": [],
   "source": [
    "my_string='hello , world'\n",
    "my_string=my_string[:5] +' python '+my_string[8:]"
   ]
  },
  {
   "cell_type": "code",
   "execution_count": 33,
   "id": "56096398",
   "metadata": {},
   "outputs": [
    {
     "data": {
      "text/plain": [
       "'hello python world'"
      ]
     },
     "execution_count": 33,
     "metadata": {},
     "output_type": "execute_result"
    }
   ],
   "source": [
    "my_string"
   ]
  },
  {
   "cell_type": "markdown",
   "id": "e288769f",
   "metadata": {},
   "source": [
    "str' object does not support item assignment\n",
    "----->1 s = 'hello world'\n",
    "----> 2 s[0] = 'H'\n",
    "\n",
    "\n",
    " s = 'hello world'\n",
    "----> 2 del s[-1:-5:2]\n",
    "      3 print(s)\n",
    "\n",
    "'str' object does not support item deletion"
   ]
  },
  {
   "cell_type": "code",
   "execution_count": 34,
   "id": "b69b3d00",
   "metadata": {},
   "outputs": [
    {
     "ename": "NameError",
     "evalue": "name 's' is not defined",
     "output_type": "error",
     "traceback": [
      "\u001b[1;31m---------------------------------------------------------------------------\u001b[0m",
      "\u001b[1;31mNameError\u001b[0m                                 Traceback (most recent call last)",
      "\u001b[1;32m~\\AppData\\Local\\Temp/ipykernel_24980/2424689276.py\u001b[0m in \u001b[0;36m<module>\u001b[1;34m\u001b[0m\n\u001b[0;32m      1\u001b[0m \u001b[0ms\u001b[0m\u001b[1;33m=\u001b[0m\u001b[1;34m'hi hello'\u001b[0m\u001b[1;33m\u001b[0m\u001b[1;33m\u001b[0m\u001b[0m\n\u001b[0;32m      2\u001b[0m \u001b[1;32mdel\u001b[0m \u001b[0ms\u001b[0m\u001b[1;33m\u001b[0m\u001b[1;33m\u001b[0m\u001b[0m\n\u001b[1;32m----> 3\u001b[1;33m \u001b[0mprint\u001b[0m\u001b[1;33m(\u001b[0m\u001b[0ms\u001b[0m\u001b[1;33m)\u001b[0m\u001b[1;33m\u001b[0m\u001b[1;33m\u001b[0m\u001b[0m\n\u001b[0m",
      "\u001b[1;31mNameError\u001b[0m: name 's' is not defined"
     ]
    }
   ],
   "source": [
    "s='hi hello'\n",
    "del s\n",
    "print(s)"
   ]
  },
  {
   "cell_type": "code",
   "execution_count": 35,
   "id": "23324e67",
   "metadata": {},
   "outputs": [
    {
     "name": "stdout",
     "output_type": "stream",
     "text": [
      "delhi mumbai\n"
     ]
    }
   ],
   "source": [
    "print('delhi'+ ' '+'mumbai')"
   ]
  },
  {
   "cell_type": "code",
   "execution_count": 36,
   "id": "55000db5",
   "metadata": {},
   "outputs": [
    {
     "name": "stdout",
     "output_type": "stream",
     "text": [
      "delhidelhidelhi\n"
     ]
    }
   ],
   "source": [
    "print('delhi'*3)"
   ]
  },
  {
   "cell_type": "code",
   "execution_count": 37,
   "id": "3506e359",
   "metadata": {},
   "outputs": [
    {
     "data": {
      "text/plain": [
       "False"
      ]
     },
     "execution_count": 37,
     "metadata": {},
     "output_type": "execute_result"
    }
   ],
   "source": [
    "'pune' !='pune'"
   ]
  },
  {
   "cell_type": "code",
   "execution_count": 38,
   "id": "6af8525a",
   "metadata": {},
   "outputs": [
    {
     "data": {
      "text/plain": [
       "False"
      ]
     },
     "execution_count": 38,
     "metadata": {},
     "output_type": "execute_result"
    }
   ],
   "source": [
    "'pune'=='mumbai'"
   ]
  },
  {
   "cell_type": "code",
   "execution_count": 39,
   "id": "c1366e9b",
   "metadata": {},
   "outputs": [
    {
     "data": {
      "text/plain": [
       "True"
      ]
     },
     "execution_count": 39,
     "metadata": {},
     "output_type": "execute_result"
    }
   ],
   "source": [
    "'pune'>'mumbai'"
   ]
  },
  {
   "cell_type": "code",
   "execution_count": 40,
   "id": "13076b74",
   "metadata": {},
   "outputs": [
    {
     "data": {
      "text/plain": [
       "False"
      ]
     },
     "execution_count": 40,
     "metadata": {},
     "output_type": "execute_result"
    }
   ],
   "source": [
    "'pune'<'mumbai'"
   ]
  },
  {
   "cell_type": "code",
   "execution_count": 41,
   "id": "3e5b73be",
   "metadata": {},
   "outputs": [
    {
     "data": {
      "text/plain": [
       "'world'"
      ]
     },
     "execution_count": 41,
     "metadata": {},
     "output_type": "execute_result"
    }
   ],
   "source": [
    "'hello' and 'world'"
   ]
  },
  {
   "cell_type": "code",
   "execution_count": 42,
   "id": "6dad56ae",
   "metadata": {},
   "outputs": [
    {
     "data": {
      "text/plain": [
       "'hello'"
      ]
     },
     "execution_count": 42,
     "metadata": {},
     "output_type": "execute_result"
    }
   ],
   "source": [
    "'hello' or 'world'"
   ]
  },
  {
   "cell_type": "code",
   "execution_count": 43,
   "id": "da2c4dbf",
   "metadata": {},
   "outputs": [
    {
     "name": "stdout",
     "output_type": "stream",
     "text": [
      "h\n",
      "e\n",
      "l\n",
      "l\n",
      "o\n"
     ]
    }
   ],
   "source": [
    "for i in 'hello':\n",
    "    print(i)"
   ]
  },
  {
   "cell_type": "code",
   "execution_count": 44,
   "id": "e0e5c2c1",
   "metadata": {},
   "outputs": [
    {
     "name": "stdout",
     "output_type": "stream",
     "text": [
      "pune\n",
      "pune\n",
      "pune\n",
      "pune\n",
      "pune\n"
     ]
    }
   ],
   "source": [
    "for i in 'delhi':\n",
    "    print('pune')"
   ]
  },
  {
   "cell_type": "code",
   "execution_count": 45,
   "id": "0a053a29",
   "metadata": {},
   "outputs": [
    {
     "data": {
      "text/plain": [
       "False"
      ]
     },
     "execution_count": 45,
     "metadata": {},
     "output_type": "execute_result"
    }
   ],
   "source": [
    "'D' in 'delhi'"
   ]
  },
  {
   "cell_type": "code",
   "execution_count": 46,
   "id": "675e8a41",
   "metadata": {},
   "outputs": [
    {
     "data": {
      "text/plain": [
       "False"
      ]
     },
     "execution_count": 46,
     "metadata": {},
     "output_type": "execute_result"
    }
   ],
   "source": [
    "'p' not in 'pune'"
   ]
  },
  {
   "cell_type": "raw",
   "id": "5f9c3f43",
   "metadata": {},
   "source": [
    ".how this compariosn operator work on strings?\n",
    "Lexicographically means ordering or comparing strings based on their alphabetical order. In Python, lexicographic order refers to the way strings are sorted based on the alphabetical order of their characters. It compares strings character by character, starting from the leftmost character, and determines their relative order.\n",
    "\n",
    "\n",
    ">: Greater than operator checks if one string is lexicographically greater than the other.\n",
    "<: Less than operator checks if one string is lexicographically smaller than the other.\n",
    "\n",
    "in: The in operator checks if a substring is present within a string.\n",
    "not in: The not in operator checks if a substring is not present within a string."
   ]
  },
  {
   "cell_type": "raw",
   "id": "3742a62f",
   "metadata": {},
   "source": [
    "'hello' and 'world':\n",
    "\n",
    "The and operator returns the first falsy operand or the last operand if all are truthy.\n",
    "In this case, both 'hello' and 'world' are non-empty strings, and non-empty strings are considered truthy.\n",
    "Therefore, the and operator evaluates both operands and returns the last truthy operand, which is 'world'.\n",
    "Output: 'world'\n",
    "'hello' or 'world':\n",
    "\n",
    "The or operator returns the first truthy operand or the last operand if all are falsy.\n",
    "In this case, both 'hello' and 'world' are non-empty strings, and non-empty strings are considered truthy.\n",
    "Therefore, the or operator evaluates both operands and returns the first truthy operand, which is 'hello'.\n",
    "Output: 'hello'\n",
    "'' or 'world':\n",
    "\n",
    "The or operator returns the first truthy operand or the last operand if all are falsy.\n",
    "In this case, the first operand '' is an empty string, and empty strings are considered falsy.\n",
    "Therefore, the or operator evaluates the first operand and since it is falsy, it proceeds to the second operand 'world'.\n",
    "Output: 'world'\n",
    "'' and 'world':\n",
    "\n",
    "The and operator returns the first falsy operand or the last operand if all are truthy.\n",
    "In this case, the first operand '' is an empty string, and empty strings are considered falsy.\n",
    "Therefore, the and operator evaluates the first operand and since it is falsy, it returns the first falsy operand without evaluating the second operand.\n",
    "Output: '' \n",
    "    \n",
    "    \n",
    "    \n",
    "'hello' and 'world' returns 'world' because both operands are truthy, and the and operator returns the last truthy operand.\n",
    "'hello' or 'world' returns 'hello' because both operands are truthy, and the or operator returns the first truthy operand.\n",
    "'' or 'world' returns 'world' because the first operand is falsy, and the or operator returns the second operand.\n",
    "'' and 'world' returns '' (empty string) because the first operand is falsy, and the and operator returns the first falsy operand without evaluating the second operand.\n",
    "These examples demonstrate how logical operators behave when applied to string operands in Python.\n",
    "\n",
    "\n",
    "\n",
    "\n",
    "\n",
    "\n"
   ]
  },
  {
   "cell_type": "code",
   "execution_count": 48,
   "id": "9e4a02c7",
   "metadata": {},
   "outputs": [
    {
     "data": {
      "text/plain": [
       "11"
      ]
     },
     "execution_count": 48,
     "metadata": {},
     "output_type": "execute_result"
    }
   ],
   "source": [
    "len('hello world')"
   ]
  },
  {
   "cell_type": "raw",
   "id": "1c31ddf6",
   "metadata": {},
   "source": [
    "len() function in Python includes spaces when calculating the length of a string. The len() function returns the total number of characters in a string, including any spaces or whitespace characters"
   ]
  },
  {
   "cell_type": "code",
   "execution_count": 49,
   "id": "f7704d69",
   "metadata": {},
   "outputs": [
    {
     "data": {
      "text/plain": [
       "'w'"
      ]
     },
     "execution_count": 49,
     "metadata": {},
     "output_type": "execute_result"
    }
   ],
   "source": [
    "max('hello world')\n"
   ]
  },
  {
   "cell_type": "code",
   "execution_count": 50,
   "id": "1e5fe50b",
   "metadata": {},
   "outputs": [
    {
     "data": {
      "text/plain": [
       "' '"
      ]
     },
     "execution_count": 50,
     "metadata": {},
     "output_type": "execute_result"
    }
   ],
   "source": [
    "min('hello world')"
   ]
  },
  {
   "cell_type": "raw",
   "id": "d961345c",
   "metadata": {},
   "source": [
    "The max() and min() functions work with strings by comparing the characters lexicographically based on their Unicode values. Keep in mind that these functions consider uppercase characters to have a lower Unicode value than lowercase characters, so the results may not always be what you expect if you have mixed case characters."
   ]
  },
  {
   "cell_type": "code",
   "execution_count": 51,
   "id": "1ff3c681",
   "metadata": {},
   "outputs": [
    {
     "data": {
      "text/plain": [
       "['w', 'r', 'o', 'o', 'l', 'l', 'l', 'h', 'e', 'd', ' ']"
      ]
     },
     "execution_count": 51,
     "metadata": {},
     "output_type": "execute_result"
    }
   ],
   "source": [
    "sorted('hello world',reverse=True)"
   ]
  },
  {
   "cell_type": "code",
   "execution_count": 52,
   "id": "cfcf00e8",
   "metadata": {},
   "outputs": [
    {
     "data": {
      "text/plain": [
       "[' ', 'd', 'e', 'h', 'l', 'l', 'l', 'o', 'o', 'r', 'w']"
      ]
     },
     "execution_count": 52,
     "metadata": {},
     "output_type": "execute_result"
    }
   ],
   "source": [
    "sorted('hello world')"
   ]
  },
  {
   "cell_type": "code",
   "execution_count": 53,
   "id": "ddd6d8dc",
   "metadata": {},
   "outputs": [
    {
     "name": "stdout",
     "output_type": "stream",
     "text": [
      "Hello world\n",
      "hello world\n"
     ]
    }
   ],
   "source": [
    "s='hello world'\n",
    "print(s.capitalize()) # not permanant\n",
    "print(s)"
   ]
  },
  {
   "cell_type": "code",
   "execution_count": 54,
   "id": "1ca68f7f",
   "metadata": {},
   "outputs": [
    {
     "data": {
      "text/plain": [
       "'Hello World'"
      ]
     },
     "execution_count": 54,
     "metadata": {},
     "output_type": "execute_result"
    }
   ],
   "source": [
    "s.title()"
   ]
  },
  {
   "cell_type": "code",
   "execution_count": 56,
   "id": "accfc414",
   "metadata": {},
   "outputs": [
    {
     "data": {
      "text/plain": [
       "'HELLO WORLD'"
      ]
     },
     "execution_count": 56,
     "metadata": {},
     "output_type": "execute_result"
    }
   ],
   "source": [
    "s.upper()"
   ]
  },
  {
   "cell_type": "code",
   "execution_count": 57,
   "id": "266a0adc",
   "metadata": {},
   "outputs": [
    {
     "data": {
      "text/plain": [
       "'hii'"
      ]
     },
     "execution_count": 57,
     "metadata": {},
     "output_type": "execute_result"
    }
   ],
   "source": [
    "'HII'.lower()"
   ]
  },
  {
   "cell_type": "code",
   "execution_count": 58,
   "id": "59c6a029",
   "metadata": {},
   "outputs": [
    {
     "data": {
      "text/plain": [
       "'hiLLO'"
      ]
     },
     "execution_count": 58,
     "metadata": {},
     "output_type": "execute_result"
    }
   ],
   "source": [
    "\"HIllo\".swapcase()"
   ]
  },
  {
   "cell_type": "code",
   "execution_count": 59,
   "id": "54c314be",
   "metadata": {},
   "outputs": [
    {
     "data": {
      "text/plain": [
       "1"
      ]
     },
     "execution_count": 59,
     "metadata": {},
     "output_type": "execute_result"
    }
   ],
   "source": [
    "'my name is sagar'.count('i')"
   ]
  },
  {
   "cell_type": "code",
   "execution_count": 63,
   "id": "f7acac48",
   "metadata": {},
   "outputs": [
    {
     "data": {
      "text/plain": [
       "-1"
      ]
     },
     "execution_count": 63,
     "metadata": {},
     "output_type": "execute_result"
    }
   ],
   "source": [
    "'my name is sagar'.find('x') # if  not in string give -1"
   ]
  },
  {
   "cell_type": "code",
   "execution_count": 62,
   "id": "0aad841e",
   "metadata": {},
   "outputs": [
    {
     "ename": "ValueError",
     "evalue": "substring not found",
     "output_type": "error",
     "traceback": [
      "\u001b[1;31m---------------------------------------------------------------------------\u001b[0m",
      "\u001b[1;31mValueError\u001b[0m                                Traceback (most recent call last)",
      "\u001b[1;32m~\\AppData\\Local\\Temp/ipykernel_24980/2193408868.py\u001b[0m in \u001b[0;36m<module>\u001b[1;34m\u001b[0m\n\u001b[1;32m----> 1\u001b[1;33m \u001b[1;34m'my name is sagar'\u001b[0m\u001b[1;33m.\u001b[0m\u001b[0mindex\u001b[0m\u001b[1;33m(\u001b[0m\u001b[1;34m'x'\u001b[0m\u001b[1;33m)\u001b[0m\u001b[1;33m\u001b[0m\u001b[1;33m\u001b[0m\u001b[0m\n\u001b[0m",
      "\u001b[1;31mValueError\u001b[0m: substring not found"
     ]
    }
   ],
   "source": [
    "'my name is sagar'.index('x') # error gives"
   ]
  },
  {
   "cell_type": "code",
   "execution_count": 64,
   "id": "575ab22f",
   "metadata": {},
   "outputs": [
    {
     "data": {
      "text/plain": [
       "True"
      ]
     },
     "execution_count": 64,
     "metadata": {},
     "output_type": "execute_result"
    }
   ],
   "source": [
    "'my name is sagar'.endswith('sagar')"
   ]
  },
  {
   "cell_type": "code",
   "execution_count": 65,
   "id": "36049f13",
   "metadata": {},
   "outputs": [
    {
     "data": {
      "text/plain": [
       "True"
      ]
     },
     "execution_count": 65,
     "metadata": {},
     "output_type": "execute_result"
    }
   ],
   "source": [
    "'my name is sagar'.startswith('my')"
   ]
  },
  {
   "cell_type": "code",
   "execution_count": 66,
   "id": "c37b7452",
   "metadata": {},
   "outputs": [
    {
     "data": {
      "text/plain": [
       "'my name is sagar and my age is 23'"
      ]
     },
     "execution_count": 66,
     "metadata": {},
     "output_type": "execute_result"
    }
   ],
   "source": [
    "name='sagar'\n",
    "age=23\n",
    "'my name is {} and my age is {}'.format(name,age)"
   ]
  },
  {
   "cell_type": "code",
   "execution_count": 67,
   "id": "76add361",
   "metadata": {},
   "outputs": [
    {
     "data": {
      "text/plain": [
       "['my', 'name', 'is', 'sagar']"
      ]
     },
     "execution_count": 67,
     "metadata": {},
     "output_type": "execute_result"
    }
   ],
   "source": [
    "'my name is sagar'.split()"
   ]
  },
  {
   "cell_type": "code",
   "execution_count": 68,
   "id": "57e1bb57",
   "metadata": {},
   "outputs": [
    {
     "data": {
      "text/plain": [
       "'my name is tejas'"
      ]
     },
     "execution_count": 68,
     "metadata": {},
     "output_type": "execute_result"
    }
   ],
   "source": [
    "'my name is sagar'.replace('sagar','tejas')"
   ]
  },
  {
   "cell_type": "code",
   "execution_count": 69,
   "id": "aad564b7",
   "metadata": {},
   "outputs": [
    {
     "data": {
      "text/plain": [
       "'my name is sagar'"
      ]
     },
     "execution_count": 69,
     "metadata": {},
     "output_type": "execute_result"
    }
   ],
   "source": [
    "\" \".join(['my', 'name', 'is', 'sagar'])"
   ]
  },
  {
   "cell_type": "code",
   "execution_count": 70,
   "id": "27908f7a",
   "metadata": {},
   "outputs": [
    {
     "data": {
      "text/plain": [
       "'sagar'"
      ]
     },
     "execution_count": 70,
     "metadata": {},
     "output_type": "execute_result"
    }
   ],
   "source": [
    "\"sagar      \".strip()"
   ]
  },
  {
   "cell_type": "code",
   "execution_count": 71,
   "id": "e702dd3f",
   "metadata": {},
   "outputs": [
    {
     "data": {
      "text/plain": [
       "True"
      ]
     },
     "execution_count": 71,
     "metadata": {},
     "output_type": "execute_result"
    }
   ],
   "source": [
    "#isalnum() method checks whether all the characters in a string are alphanumeric \n",
    "my_s='hello123'\n",
    "my_s.isalnum()"
   ]
  },
  {
   "cell_type": "code",
   "execution_count": 72,
   "id": "9da54656",
   "metadata": {},
   "outputs": [
    {
     "data": {
      "text/plain": [
       "True"
      ]
     },
     "execution_count": 72,
     "metadata": {},
     "output_type": "execute_result"
    }
   ],
   "source": [
    "#isalpha() method checks whether all the characters in a string are alphabetic \n",
    "my_s1='hello'\n",
    "my_s1.isalpha()"
   ]
  },
  {
   "cell_type": "code",
   "execution_count": 73,
   "id": "81b25622",
   "metadata": {},
   "outputs": [
    {
     "data": {
      "text/plain": [
       "True"
      ]
     },
     "execution_count": 73,
     "metadata": {},
     "output_type": "execute_result"
    }
   ],
   "source": [
    "#isdigit() method checks whether all the characters in a string are digits.\n",
    "my_s2='123456'\n",
    "my_s2.isdigit()"
   ]
  },
  {
   "cell_type": "code",
   "execution_count": 74,
   "id": "0c8448ba",
   "metadata": {},
   "outputs": [
    {
     "name": "stdout",
     "output_type": "stream",
     "text": [
      "True\n",
      "False\n"
     ]
    }
   ],
   "source": [
    "#isidentifier() method checks whether a string is a valid identifier according to Python's naming rules.\n",
    "my_string = \"hello\"\n",
    "print(my_string.isidentifier())   # Output: True\n",
    "\n",
    "my_string = \"123hello\"\n",
    "print(my_string.isidentifier())   # Output: False \"123hello\" starts with a digit, which is not a valid identifier according to Python's rules.\n"
   ]
  },
  {
   "cell_type": "code",
   "execution_count": 1,
   "id": "82851dc7",
   "metadata": {},
   "outputs": [
    {
     "name": "stdout",
     "output_type": "stream",
     "text": [
      "Enter a string:Tejas ghodake\n",
      "length of the string: 13\n"
     ]
    }
   ],
   "source": [
    "# Find the length of a given string without using the len() function\n",
    "s= input('Enter a string:')\n",
    "counter=0\n",
    "for i in s:\n",
    "    counter+=1\n",
    "print('length of the string:',counter)"
   ]
  },
  {
   "cell_type": "code",
   "execution_count": 3,
   "id": "df0927a7",
   "metadata": {},
   "outputs": [
    {
     "name": "stdout",
     "output_type": "stream",
     "text": [
      "Enter the Email:tejasghodake20@gmail.com\n",
      "tejasghodake20\n"
     ]
    }
   ],
   "source": [
    "#Extract username from a given email. \n",
    "s=input('Enter the Email:')\n",
    "pos=s.index('@')\n",
    "print(s[0:pos])"
   ]
  },
  {
   "cell_type": "code",
   "execution_count": 4,
   "id": "b4ade321",
   "metadata": {},
   "outputs": [
    {
     "name": "stdout",
     "output_type": "stream",
     "text": [
      "enter the emailtejasghodake20@gmail.com\n",
      "what would like to search forh\n",
      "frequncy 1\n"
     ]
    }
   ],
   "source": [
    "# Count the frequency of a particular character in a provided string. \n",
    "# Eg 'hello how are you' is the string, the frequency of h in this string is 2.\n",
    "s=input('enter the string')\n",
    "term=input('what would like to search for')\n",
    "counter=0\n",
    "for i in s:\n",
    "    if i==term:\n",
    "        counter+=1\n",
    "print('frequncy',counter)\n",
    "    "
   ]
  },
  {
   "cell_type": "code",
   "execution_count": 5,
   "id": "d07010cd",
   "metadata": {},
   "outputs": [
    {
     "name": "stdout",
     "output_type": "stream",
     "text": [
      "enter the stringsagar\n",
      "what would like to search fora\n",
      "sgr\n"
     ]
    }
   ],
   "source": [
    "# Write a program which can remove a particular character from a string\n",
    "s=input('enter the string')\n",
    "term=input('what would like to search for')\n",
    "result=''\n",
    "for i in s:\n",
    "    if i !=term:\n",
    "        result+=i\n",
    "print(result)"
   ]
  },
  {
   "cell_type": "code",
   "execution_count": 8,
   "id": "2443ea2e",
   "metadata": {},
   "outputs": [
    {
     "name": "stdout",
     "output_type": "stream",
     "text": [
      "enter a string:sagAR\n",
      "Sagar\n"
     ]
    }
   ],
   "source": [
    "## Write a python program to convert a string to title case without using the title()\n",
    "s= input('enter a string:')\n",
    "l=[]\n",
    "for i in s.split():\n",
    "    l.append(i[0].upper() + i[1:].lower())\n",
    "print(\" \".join(l))"
   ]
  },
  {
   "cell_type": "code",
   "execution_count": 10,
   "id": "5985d498",
   "metadata": {},
   "outputs": [
    {
     "name": "stdout",
     "output_type": "stream",
     "text": [
      "enter a number:34560\n",
      "34560\n",
      "<class 'str'>\n"
     ]
    }
   ],
   "source": [
    "# Write a program that can convert an integer to string.\n",
    "\n",
    "number=int(input('enter a number:'))\n",
    "digits='0123456789'\n",
    "result=''\n",
    "while number!=0:\n",
    "    result=digits[number%10]+result\n",
    "    number//=10\n",
    "print(result)\n",
    "print(type(result))"
   ]
  },
  {
   "cell_type": "code",
   "execution_count": 15,
   "id": "4d255395",
   "metadata": {},
   "outputs": [
    {
     "name": "stdout",
     "output_type": "stream",
     "text": [
      "enter the string:hi hello how\n",
      "[' hi', ' hello', ' how']\n"
     ]
    }
   ],
   "source": [
    "# Write a program to count the number of words in a string without split()\n",
    "s= input('enter the string:')\n",
    "l=[]\n",
    "temp=' '\n",
    "for i in s:\n",
    "    if i !=' ':\n",
    "        temp+=i\n",
    "    else:\n",
    "        l.append(temp)\n",
    "        temp=' '\n",
    "l.append(temp)\n",
    "print(l)"
   ]
  },
  {
   "cell_type": "code",
   "execution_count": 20,
   "id": "30cc32b6",
   "metadata": {},
   "outputs": [
    {
     "name": "stdout",
     "output_type": "stream",
     "text": [
      "enter the string :rama\n",
      "the string is not palindrom\n"
     ]
    }
   ],
   "source": [
    "# Write a program that can check whether a given string is palindrome or not.\n",
    "# abba\n",
    "s= input('enter the string :')\n",
    "flag= True\n",
    "for i in range(0,len(s)//2):\n",
    "    if s[i] != s[len(s)-i-1]:\n",
    "        flag=False\n",
    "        print('the string is not palindrom')\n",
    "        break\n",
    "if flag:\n",
    "    print('palindrome')"
   ]
  },
  {
   "cell_type": "code",
   "execution_count": null,
   "id": "38d27a6b",
   "metadata": {},
   "outputs": [],
   "source": []
  }
 ],
 "metadata": {
  "kernelspec": {
   "display_name": "Python 3 (ipykernel)",
   "language": "python",
   "name": "python3"
  },
  "language_info": {
   "codemirror_mode": {
    "name": "ipython",
    "version": 3
   },
   "file_extension": ".py",
   "mimetype": "text/x-python",
   "name": "python",
   "nbconvert_exporter": "python",
   "pygments_lexer": "ipython3",
   "version": "3.9.7"
  }
 },
 "nbformat": 4,
 "nbformat_minor": 5
}
