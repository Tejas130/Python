{
 "cells": [
  {
   "cell_type": "code",
   "execution_count": 1,
   "id": "bd4d8a8a",
   "metadata": {},
   "outputs": [
    {
     "name": "stdout",
     "output_type": "stream",
     "text": [
      "1842092391296\n",
      "1842011072816\n",
      "1842011072848\n",
      "1842011072880\n",
      "1842011072816\n"
     ]
    }
   ],
   "source": [
    "l=[1,2,3]\n",
    "print(id(l))\n",
    "print(id(1))\n",
    "print(id(2))\n",
    "print(id(3))\n",
    "print(id(l[0]))"
   ]
  },
  {
   "cell_type": "raw",
   "id": "4b0752fa",
   "metadata": {},
   "source": [
    "each element within the list has a different identifier because they are separate objects stored at different memory locations. The list itself also has its own unique identifier representing the memory location where it is stored."
   ]
  },
  {
   "cell_type": "raw",
   "id": "4fe1cd15",
   "metadata": {},
   "source": [
    "ARRY VS LIST\n",
    "- Fixed Vs Dynamic Size\n",
    "- Convenience -> Hetrogeneous\n",
    "- Speed of Execution --more in arrya\n",
    "- Memory efficient- more in array\n"
   ]
  },
  {
   "cell_type": "raw",
   "id": "eca0e6f0",
   "metadata": {},
   "source": [
    "##Characterstics of a List\n",
    "Ordered\n",
    "Changeble/Mutable\n",
    "Hetrogeneous\n",
    "Can have duplicates\n",
    "are dynamic\n",
    "can be nested\n",
    "items can be accessed\n",
    "can contain any kind of objects in python"
   ]
  },
  {
   "cell_type": "code",
   "execution_count": 2,
   "id": "839b0fcd",
   "metadata": {},
   "outputs": [
    {
     "data": {
      "text/plain": [
       "False"
      ]
     },
     "execution_count": 2,
     "metadata": {},
     "output_type": "execute_result"
    }
   ],
   "source": [
    "l=[1,2,3]\n",
    "l1=[3,2,1]\n",
    "l==l1 # both are different"
   ]
  },
  {
   "cell_type": "code",
   "execution_count": 3,
   "id": "0b7c3f56",
   "metadata": {},
   "outputs": [
    {
     "name": "stdout",
     "output_type": "stream",
     "text": [
      "[]\n",
      "[1, 2, 3]\n",
      "['sagar', 1, True, (5+6j)]\n",
      "[1, 2, [3, 4]]\n",
      "[[[1, 2], [3, 4]]]\n",
      "['h', 'e', 'l', 'l', 'o']\n"
     ]
    }
   ],
   "source": [
    "#way to creating list\n",
    "#empty list\n",
    "L=[]\n",
    "print(L)\n",
    "#1-d homo\n",
    "L1=[1,2,3]\n",
    "print(L1)\n",
    "#1-d heterogenous\n",
    "L2=['sagar',1,True,5+6j]\n",
    "print(L2)\n",
    "#2-d\n",
    "L3=[1,2,[3,4]]\n",
    "print(L3)\n",
    "#3d\n",
    "L4=[[[1,2],[3,4]]]\n",
    "print(L4)\n",
    "#type conversion\n",
    "print(list('hello'))"
   ]
  },
  {
   "cell_type": "code",
   "execution_count": 4,
   "id": "dcdc9a71",
   "metadata": {},
   "outputs": [
    {
     "name": "stdout",
     "output_type": "stream",
     "text": [
      "1\n",
      "[3, [4, 5]]\n"
     ]
    }
   ],
   "source": [
    "#Accessing Items from a List\n",
    "L=[1,2,3,[4,5]]\n",
    "print(L[0])\n",
    "print(L[2:])"
   ]
  },
  {
   "cell_type": "code",
   "execution_count": 5,
   "id": "76a94159",
   "metadata": {},
   "outputs": [
    {
     "name": "stdout",
     "output_type": "stream",
     "text": [
      "[4, 5]\n"
     ]
    }
   ],
   "source": [
    "print(L[3])"
   ]
  },
  {
   "cell_type": "code",
   "execution_count": 6,
   "id": "66efe041",
   "metadata": {},
   "outputs": [
    {
     "name": "stdout",
     "output_type": "stream",
     "text": [
      "5\n"
     ]
    }
   ],
   "source": [
    "print(L[3][1])"
   ]
  },
  {
   "cell_type": "code",
   "execution_count": 7,
   "id": "cfd20fde",
   "metadata": {},
   "outputs": [
    {
     "name": "stdout",
     "output_type": "stream",
     "text": [
      "[5, 4, 3, 2, 1]\n"
     ]
    }
   ],
   "source": [
    "L_rev=[1,2,3,4,5]\n",
    "print(L_rev[::-1])"
   ]
  },
  {
   "cell_type": "code",
   "execution_count": 8,
   "id": "631c939f",
   "metadata": {},
   "outputs": [],
   "source": [
    "#append\n",
    "L=[1,2,3,4,5]\n",
    "L.append(6)"
   ]
  },
  {
   "cell_type": "code",
   "execution_count": 9,
   "id": "c99b3771",
   "metadata": {},
   "outputs": [
    {
     "data": {
      "text/plain": [
       "[1, 2, 3, 4, 5, 6]"
      ]
     },
     "execution_count": 9,
     "metadata": {},
     "output_type": "execute_result"
    }
   ],
   "source": [
    "L"
   ]
  },
  {
   "cell_type": "code",
   "execution_count": 10,
   "id": "6a8351de",
   "metadata": {},
   "outputs": [],
   "source": [
    "L.append([1,2])"
   ]
  },
  {
   "cell_type": "code",
   "execution_count": 11,
   "id": "f21e20e9",
   "metadata": {},
   "outputs": [
    {
     "data": {
      "text/plain": [
       "[1, 2, 3, 4, 5, 6, [1, 2]]"
      ]
     },
     "execution_count": 11,
     "metadata": {},
     "output_type": "execute_result"
    }
   ],
   "source": [
    "L"
   ]
  },
  {
   "cell_type": "code",
   "execution_count": 13,
   "id": "a71fee59",
   "metadata": {},
   "outputs": [],
   "source": [
    "#extend\n",
    "L2=[1,2,3]\n",
    "L2.extend([1])"
   ]
  },
  {
   "cell_type": "code",
   "execution_count": 14,
   "id": "7d49caf5",
   "metadata": {},
   "outputs": [
    {
     "data": {
      "text/plain": [
       "[1, 2, 3, 1]"
      ]
     },
     "execution_count": 14,
     "metadata": {},
     "output_type": "execute_result"
    }
   ],
   "source": [
    "L2"
   ]
  },
  {
   "cell_type": "code",
   "execution_count": 15,
   "id": "f5400f8a",
   "metadata": {},
   "outputs": [],
   "source": [
    "L2.extend([1,2,3])"
   ]
  },
  {
   "cell_type": "code",
   "execution_count": 16,
   "id": "9ddb7969",
   "metadata": {},
   "outputs": [
    {
     "data": {
      "text/plain": [
       "[1, 2, 3, 1, 1, 2, 3]"
      ]
     },
     "execution_count": 16,
     "metadata": {},
     "output_type": "execute_result"
    }
   ],
   "source": [
    "L2"
   ]
  },
  {
   "cell_type": "code",
   "execution_count": 17,
   "id": "af709d6f",
   "metadata": {},
   "outputs": [],
   "source": [
    "L2.extend('pune')"
   ]
  },
  {
   "cell_type": "code",
   "execution_count": 18,
   "id": "52d71515",
   "metadata": {},
   "outputs": [
    {
     "data": {
      "text/plain": [
       "[1, 2, 3, 1, 1, 2, 3, 'p', 'u', 'n', 'e']"
      ]
     },
     "execution_count": 18,
     "metadata": {},
     "output_type": "execute_result"
    }
   ],
   "source": [
    "L2"
   ]
  },
  {
   "cell_type": "code",
   "execution_count": 19,
   "id": "5fde4681",
   "metadata": {},
   "outputs": [],
   "source": [
    "#insert\n",
    "L3=[1,2,3,4]\n",
    "L3.insert(1,6)"
   ]
  },
  {
   "cell_type": "code",
   "execution_count": 20,
   "id": "bebbfc97",
   "metadata": {},
   "outputs": [
    {
     "data": {
      "text/plain": [
       "[1, 6, 2, 3, 4]"
      ]
     },
     "execution_count": 20,
     "metadata": {},
     "output_type": "execute_result"
    }
   ],
   "source": [
    "L3"
   ]
  },
  {
   "cell_type": "code",
   "execution_count": 21,
   "id": "70d4a547",
   "metadata": {},
   "outputs": [],
   "source": [
    "L3.insert(-1,100)"
   ]
  },
  {
   "cell_type": "code",
   "execution_count": 22,
   "id": "bff10cec",
   "metadata": {},
   "outputs": [
    {
     "data": {
      "text/plain": [
       "[1, 6, 2, 3, 100, 4]"
      ]
     },
     "execution_count": 22,
     "metadata": {},
     "output_type": "execute_result"
    }
   ],
   "source": [
    "L3"
   ]
  },
  {
   "cell_type": "code",
   "execution_count": 24,
   "id": "bca7469c",
   "metadata": {},
   "outputs": [
    {
     "data": {
      "text/plain": [
       "4"
      ]
     },
     "execution_count": 24,
     "metadata": {},
     "output_type": "execute_result"
    }
   ],
   "source": [
    "L3[-1]"
   ]
  },
  {
   "cell_type": "code",
   "execution_count": 25,
   "id": "2d5da445",
   "metadata": {},
   "outputs": [],
   "source": [
    "#editing item in list\n",
    "L4=[1,2,3,4,5,6]\n",
    "L4[-1]=100"
   ]
  },
  {
   "cell_type": "code",
   "execution_count": 26,
   "id": "2332e7aa",
   "metadata": {},
   "outputs": [
    {
     "data": {
      "text/plain": [
       "[1, 2, 3, 4, 5, 100]"
      ]
     },
     "execution_count": 26,
     "metadata": {},
     "output_type": "execute_result"
    }
   ],
   "source": [
    "L4"
   ]
  },
  {
   "cell_type": "code",
   "execution_count": 27,
   "id": "ec07a04f",
   "metadata": {},
   "outputs": [],
   "source": [
    "L4[0]=400"
   ]
  },
  {
   "cell_type": "code",
   "execution_count": 28,
   "id": "ca5c8e6b",
   "metadata": {},
   "outputs": [
    {
     "data": {
      "text/plain": [
       "[400, 2, 3, 4, 5, 100]"
      ]
     },
     "execution_count": 28,
     "metadata": {},
     "output_type": "execute_result"
    }
   ],
   "source": [
    "L4"
   ]
  },
  {
   "cell_type": "code",
   "execution_count": 31,
   "id": "4e260ac8",
   "metadata": {},
   "outputs": [],
   "source": [
    "#editing with slicing\n",
    "L4[1:-1]=[10,20,30,40]"
   ]
  },
  {
   "cell_type": "code",
   "execution_count": 32,
   "id": "028ee3ae",
   "metadata": {},
   "outputs": [
    {
     "data": {
      "text/plain": [
       "[400, 10, 20, 30, 40, 100]"
      ]
     },
     "execution_count": 32,
     "metadata": {},
     "output_type": "execute_result"
    }
   ],
   "source": [
    "L4"
   ]
  },
  {
   "cell_type": "code",
   "execution_count": 33,
   "id": "516bb6cf",
   "metadata": {},
   "outputs": [],
   "source": [
    "#deleting item from list\n",
    "del L4[-1]"
   ]
  },
  {
   "cell_type": "code",
   "execution_count": 34,
   "id": "588d27b8",
   "metadata": {},
   "outputs": [
    {
     "data": {
      "text/plain": [
       "[400, 10, 20, 30, 40]"
      ]
     },
     "execution_count": 34,
     "metadata": {},
     "output_type": "execute_result"
    }
   ],
   "source": [
    "L4"
   ]
  },
  {
   "cell_type": "code",
   "execution_count": 35,
   "id": "46a85ede",
   "metadata": {},
   "outputs": [],
   "source": [
    "del L4[2:]"
   ]
  },
  {
   "cell_type": "code",
   "execution_count": 36,
   "id": "1f13e64e",
   "metadata": {},
   "outputs": [
    {
     "data": {
      "text/plain": [
       "[400, 10]"
      ]
     },
     "execution_count": 36,
     "metadata": {},
     "output_type": "execute_result"
    }
   ],
   "source": [
    "L4"
   ]
  },
  {
   "cell_type": "code",
   "execution_count": 38,
   "id": "f144ccbb",
   "metadata": {},
   "outputs": [],
   "source": [
    "#remove\n",
    "L5=[1,2,4,5,6,7]\n",
    "L5.remove(5)  #remove item"
   ]
  },
  {
   "cell_type": "code",
   "execution_count": 39,
   "id": "b6bd44f0",
   "metadata": {},
   "outputs": [
    {
     "data": {
      "text/plain": [
       "[1, 2, 4, 6, 7]"
      ]
     },
     "execution_count": 39,
     "metadata": {},
     "output_type": "execute_result"
    }
   ],
   "source": [
    "L5"
   ]
  },
  {
   "cell_type": "code",
   "execution_count": 48,
   "id": "31afcd12",
   "metadata": {},
   "outputs": [],
   "source": [
    "L6=[1,1,1,1,2,'n',2]\n",
    "L6.remove(1)"
   ]
  },
  {
   "cell_type": "code",
   "execution_count": 49,
   "id": "bb6f006b",
   "metadata": {},
   "outputs": [],
   "source": [
    "L6.remove(2)"
   ]
  },
  {
   "cell_type": "code",
   "execution_count": 50,
   "id": "da7b4856",
   "metadata": {},
   "outputs": [
    {
     "data": {
      "text/plain": [
       "[1, 1, 1, 'n', 2]"
      ]
     },
     "execution_count": 50,
     "metadata": {},
     "output_type": "execute_result"
    }
   ],
   "source": [
    "L6"
   ]
  },
  {
   "cell_type": "code",
   "execution_count": 51,
   "id": "5533885f",
   "metadata": {},
   "outputs": [
    {
     "data": {
      "text/plain": [
       "4"
      ]
     },
     "execution_count": 51,
     "metadata": {},
     "output_type": "execute_result"
    }
   ],
   "source": [
    "#pop\n",
    "L7=[1,2,3,4]\n",
    "L7.pop() #last element extract bydefault"
   ]
  },
  {
   "cell_type": "code",
   "execution_count": 52,
   "id": "8c834063",
   "metadata": {},
   "outputs": [
    {
     "data": {
      "text/plain": [
       "3"
      ]
     },
     "execution_count": 52,
     "metadata": {},
     "output_type": "execute_result"
    }
   ],
   "source": [
    "L7.pop(2) #its need index pos"
   ]
  },
  {
   "cell_type": "code",
   "execution_count": 53,
   "id": "1c2b1a3f",
   "metadata": {},
   "outputs": [],
   "source": [
    "L8=[4,5,6]\n",
    "L8.clear()"
   ]
  },
  {
   "cell_type": "code",
   "execution_count": 54,
   "id": "8b903efe",
   "metadata": {},
   "outputs": [
    {
     "data": {
      "text/plain": [
       "[]"
      ]
     },
     "execution_count": 54,
     "metadata": {},
     "output_type": "execute_result"
    }
   ],
   "source": [
    "L8"
   ]
  },
  {
   "cell_type": "code",
   "execution_count": 55,
   "id": "5b343ef7",
   "metadata": {},
   "outputs": [
    {
     "ename": "TypeError",
     "evalue": "list.clear() takes no arguments (1 given)",
     "output_type": "error",
     "traceback": [
      "\u001b[1;31m---------------------------------------------------------------------------\u001b[0m",
      "\u001b[1;31mTypeError\u001b[0m                                 Traceback (most recent call last)",
      "\u001b[1;32m~\\AppData\\Local\\Temp/ipykernel_12868/2978893300.py\u001b[0m in \u001b[0;36m<module>\u001b[1;34m\u001b[0m\n\u001b[0;32m      1\u001b[0m \u001b[0mL9\u001b[0m\u001b[1;33m=\u001b[0m\u001b[1;33m[\u001b[0m\u001b[1;36m12\u001b[0m\u001b[1;33m,\u001b[0m\u001b[1;36m11\u001b[0m\u001b[1;33m,\u001b[0m\u001b[1;36m13\u001b[0m\u001b[1;33m]\u001b[0m\u001b[1;33m\u001b[0m\u001b[1;33m\u001b[0m\u001b[0m\n\u001b[1;32m----> 2\u001b[1;33m \u001b[0mL9\u001b[0m\u001b[1;33m.\u001b[0m\u001b[0mclear\u001b[0m\u001b[1;33m(\u001b[0m\u001b[1;36m2\u001b[0m\u001b[1;33m)\u001b[0m\u001b[1;33m\u001b[0m\u001b[1;33m\u001b[0m\u001b[0m\n\u001b[0m",
      "\u001b[1;31mTypeError\u001b[0m: list.clear() takes no arguments (1 given)"
     ]
    }
   ],
   "source": [
    "L9=[12,11,13]\n",
    "L9.clear(2)"
   ]
  },
  {
   "cell_type": "code",
   "execution_count": 56,
   "id": "565cb045",
   "metadata": {},
   "outputs": [
    {
     "data": {
      "text/plain": [
       "[1, 2, 3, 4, 5, 6, 7, 8, 9, 10]"
      ]
     },
     "execution_count": 56,
     "metadata": {},
     "output_type": "execute_result"
    }
   ],
   "source": [
    "#airthmetic operations\n",
    "L_1=[1,2,3,4,5]\n",
    "L_2=[6,7,8,9,10]\n",
    "L_1+L_2\n"
   ]
  },
  {
   "cell_type": "code",
   "execution_count": 57,
   "id": "f7a71c74",
   "metadata": {},
   "outputs": [
    {
     "name": "stdout",
     "output_type": "stream",
     "text": [
      "[1, 2, 3, 4, 5, 1, 2, 3, 4, 5, 1, 2, 3, 4, 5]\n"
     ]
    }
   ],
   "source": [
    "print(L_1*3)"
   ]
  },
  {
   "cell_type": "code",
   "execution_count": 58,
   "id": "1fd33a64",
   "metadata": {},
   "outputs": [
    {
     "data": {
      "text/plain": [
       "False"
      ]
     },
     "execution_count": 58,
     "metadata": {},
     "output_type": "execute_result"
    }
   ],
   "source": [
    "5 not in L_1"
   ]
  },
  {
   "cell_type": "code",
   "execution_count": 59,
   "id": "ebd3b293",
   "metadata": {},
   "outputs": [
    {
     "data": {
      "text/plain": [
       "True"
      ]
     },
     "execution_count": 59,
     "metadata": {},
     "output_type": "execute_result"
    }
   ],
   "source": [
    "5 in L_1"
   ]
  },
  {
   "cell_type": "code",
   "execution_count": 60,
   "id": "93eed827",
   "metadata": {},
   "outputs": [
    {
     "data": {
      "text/plain": [
       "False"
      ]
     },
     "execution_count": 60,
     "metadata": {},
     "output_type": "execute_result"
    }
   ],
   "source": [
    "L_3=[1,10,[5,6]]\n",
    "5 in L_3"
   ]
  },
  {
   "cell_type": "code",
   "execution_count": 61,
   "id": "e70485ce",
   "metadata": {},
   "outputs": [
    {
     "data": {
      "text/plain": [
       "True"
      ]
     },
     "execution_count": 61,
     "metadata": {},
     "output_type": "execute_result"
    }
   ],
   "source": [
    "[5,6] in L_3"
   ]
  },
  {
   "cell_type": "code",
   "execution_count": 62,
   "id": "45783b04",
   "metadata": {},
   "outputs": [
    {
     "name": "stdout",
     "output_type": "stream",
     "text": [
      "[[1, 2], [3, 4], [5, 6], [7, 8]]\n"
     ]
    }
   ],
   "source": [
    "#loops\n",
    "L_4=[[[1,2],[3,4],[5,6],[7,8]]]\n",
    "for i in L_4:\n",
    "    print(i)"
   ]
  },
  {
   "cell_type": "code",
   "execution_count": 63,
   "id": "2217c606",
   "metadata": {},
   "outputs": [
    {
     "name": "stdout",
     "output_type": "stream",
     "text": [
      "1\n",
      "2\n",
      "3\n",
      "[4, 5]\n"
     ]
    }
   ],
   "source": [
    "L_5=[1,2,3,[4,5]]\n",
    "for i in L_5:\n",
    "    print(i)"
   ]
  },
  {
   "cell_type": "code",
   "execution_count": 65,
   "id": "d2dcf816",
   "metadata": {},
   "outputs": [
    {
     "name": "stdout",
     "output_type": "stream",
     "text": [
      "8\n",
      "8\n",
      "1\n",
      "[8, 7, 6, 5, 4, 3, 2, 1]\n"
     ]
    }
   ],
   "source": [
    "L_6=[1,2,3,4,5,6,7,8]\n",
    "print(len(L_6))\n",
    "print(max(L_6))\n",
    "print(min(L_6))\n",
    "print(sorted(L_6,reverse=True))"
   ]
  },
  {
   "cell_type": "code",
   "execution_count": 66,
   "id": "770394c3",
   "metadata": {},
   "outputs": [
    {
     "data": {
      "text/plain": [
       "4"
      ]
     },
     "execution_count": 66,
     "metadata": {},
     "output_type": "execute_result"
    }
   ],
   "source": [
    "L_7=[1,1,1,1,2,3,4,5]\n",
    "L_7.count(1) #give how much time appers in list"
   ]
  },
  {
   "cell_type": "code",
   "execution_count": 67,
   "id": "53e91e44",
   "metadata": {},
   "outputs": [
    {
     "data": {
      "text/plain": [
       "1"
      ]
     },
     "execution_count": 67,
     "metadata": {},
     "output_type": "execute_result"
    }
   ],
   "source": [
    "L_7.count(3)"
   ]
  },
  {
   "cell_type": "code",
   "execution_count": 68,
   "id": "14e5e8e0",
   "metadata": {},
   "outputs": [
    {
     "data": {
      "text/plain": [
       "0"
      ]
     },
     "execution_count": 68,
     "metadata": {},
     "output_type": "execute_result"
    }
   ],
   "source": [
    "L_7.index(1) #give index pos"
   ]
  },
  {
   "cell_type": "code",
   "execution_count": 69,
   "id": "9de7976e",
   "metadata": {},
   "outputs": [
    {
     "data": {
      "text/plain": [
       "7"
      ]
     },
     "execution_count": 69,
     "metadata": {},
     "output_type": "execute_result"
    }
   ],
   "source": [
    "L_7.index(5)"
   ]
  },
  {
   "cell_type": "code",
   "execution_count": 70,
   "id": "f68ae2d8",
   "metadata": {},
   "outputs": [],
   "source": [
    "L_7.reverse() #permanantely"
   ]
  },
  {
   "cell_type": "code",
   "execution_count": 71,
   "id": "e9aae5c2",
   "metadata": {},
   "outputs": [
    {
     "data": {
      "text/plain": [
       "[5, 4, 3, 2, 1, 1, 1, 1]"
      ]
     },
     "execution_count": 71,
     "metadata": {},
     "output_type": "execute_result"
    }
   ],
   "source": [
    "L_7"
   ]
  },
  {
   "cell_type": "code",
   "execution_count": 74,
   "id": "9771241b",
   "metadata": {},
   "outputs": [],
   "source": [
    "#SORT Vs SORTED\n",
    "L_8=[1,3,5,4]\n",
    "L_8.sort() #it changes the original list directly."
   ]
  },
  {
   "cell_type": "code",
   "execution_count": 75,
   "id": "4782c8a8",
   "metadata": {},
   "outputs": [
    {
     "data": {
      "text/plain": [
       "[1, 3, 4, 5]"
      ]
     },
     "execution_count": 75,
     "metadata": {},
     "output_type": "execute_result"
    }
   ],
   "source": [
    "L_8"
   ]
  },
  {
   "cell_type": "code",
   "execution_count": 77,
   "id": "ae592520",
   "metadata": {},
   "outputs": [
    {
     "data": {
      "text/plain": [
       "[1, 3, 4, 5]"
      ]
     },
     "execution_count": 77,
     "metadata": {},
     "output_type": "execute_result"
    }
   ],
   "source": [
    "sorted(L_8) # its not cahnge original list"
   ]
  },
  {
   "cell_type": "code",
   "execution_count": 78,
   "id": "57dbfcb4",
   "metadata": {},
   "outputs": [],
   "source": [
    "#copy and shallow\n",
    "L_9=[1,2,3]\n",
    "L_10=L_9.copy()"
   ]
  },
  {
   "cell_type": "code",
   "execution_count": 79,
   "id": "384657d2",
   "metadata": {},
   "outputs": [
    {
     "data": {
      "text/plain": [
       "[1, 2, 3]"
      ]
     },
     "execution_count": 79,
     "metadata": {},
     "output_type": "execute_result"
    }
   ],
   "source": [
    "L_10"
   ]
  },
  {
   "cell_type": "code",
   "execution_count": 81,
   "id": "68ba0506",
   "metadata": {},
   "outputs": [
    {
     "name": "stdout",
     "output_type": "stream",
     "text": [
      "1842129147072\n",
      "1842130470912\n"
     ]
    }
   ],
   "source": [
    "print(id(L_9))\n",
    "print(id(L_10))  #both different"
   ]
  },
  {
   "cell_type": "raw",
   "id": "87031fd3",
   "metadata": {},
   "source": [
    "List Comprehension provides a concise way of creating lists.\n",
    "\n",
    "newlist = [expression for item in iterable if condition == True]\n",
    "\n",
    "Advantages of List Comprehension\n",
    "\n",
    "More time-efficient and space-efficient than loops.\n",
    "Require fewer lines of code.\n",
    "Transforms iterative statement into a formula"
   ]
  },
  {
   "cell_type": "code",
   "execution_count": 83,
   "id": "0f912531",
   "metadata": {},
   "outputs": [
    {
     "name": "stdout",
     "output_type": "stream",
     "text": [
      "[1, 2, 3, 4, 5, 6, 7, 8, 9, 10]\n"
     ]
    }
   ],
   "source": [
    "# Add 1 to 10 numbers to a list\n",
    "L=[]\n",
    "\n",
    "for i in range(1,11):\n",
    "    L.append(i)\n",
    "print(L)\n",
    "    "
   ]
  },
  {
   "cell_type": "code",
   "execution_count": 84,
   "id": "ded1c220",
   "metadata": {},
   "outputs": [
    {
     "name": "stdout",
     "output_type": "stream",
     "text": [
      "[1, 2, 3, 4, 5, 6, 7, 8, 9, 10]\n"
     ]
    }
   ],
   "source": [
    "L=[i for i in range(1,11)]\n",
    "print(L)"
   ]
  },
  {
   "cell_type": "code",
   "execution_count": 87,
   "id": "ef49663e",
   "metadata": {},
   "outputs": [
    {
     "data": {
      "text/plain": [
       "[-9, -12, -15]"
      ]
     },
     "execution_count": 87,
     "metadata": {},
     "output_type": "execute_result"
    }
   ],
   "source": [
    "# scalar multiplication on a vector\n",
    "s=-3\n",
    "v=[3,4,5]\n",
    "[s*i for i in v]"
   ]
  },
  {
   "cell_type": "code",
   "execution_count": 88,
   "id": "f34d397d",
   "metadata": {},
   "outputs": [
    {
     "data": {
      "text/plain": [
       "[4, 16, 36]"
      ]
     },
     "execution_count": 88,
     "metadata": {},
     "output_type": "execute_result"
    }
   ],
   "source": [
    "#add squares\n",
    "L=[2,4,6]\n",
    "[i*i for i in L]"
   ]
  },
  {
   "cell_type": "code",
   "execution_count": 89,
   "id": "4940ced1",
   "metadata": {},
   "outputs": [
    {
     "data": {
      "text/plain": [
       "[5, 10, 15, 20, 25, 30, 35, 40, 45, 50]"
      ]
     },
     "execution_count": 89,
     "metadata": {},
     "output_type": "execute_result"
    }
   ],
   "source": [
    "# Print all numbers divisible by 5 in the range of 1 to 50\n",
    "[  i for i in range(1,51) if i%5==0]"
   ]
  },
  {
   "cell_type": "code",
   "execution_count": 90,
   "id": "13d3060c",
   "metadata": {},
   "outputs": [
    {
     "data": {
      "text/plain": [
       "['python', 'php']"
      ]
     },
     "execution_count": 90,
     "metadata": {},
     "output_type": "execute_result"
    }
   ],
   "source": [
    "# find languages which start with letter p\n",
    "languages = ['java','python','php','c','javascript']\n",
    "\n",
    "[ i for i in languages if str(i).startswith('p')]"
   ]
  },
  {
   "cell_type": "code",
   "execution_count": 91,
   "id": "0590b09d",
   "metadata": {},
   "outputs": [
    {
     "data": {
      "text/plain": [
       "['apple']"
      ]
     },
     "execution_count": 91,
     "metadata": {},
     "output_type": "execute_result"
    }
   ],
   "source": [
    "# Nested if with List Comprehension\n",
    "basket = ['apple','guava','cherry','banana']\n",
    "my_fruits = ['apple','kiwi','grapes','banana']\n",
    "\n",
    "[i for i in my_fruits if i in basket and str(i).startswith('a')]"
   ]
  },
  {
   "cell_type": "code",
   "execution_count": 92,
   "id": "16b08397",
   "metadata": {},
   "outputs": [
    {
     "data": {
      "text/plain": [
       "[(1, 1), (1, 2), (1, 3), (2, 1), (2, 2), (2, 3), (3, 1), (3, 2), (3, 3)]"
      ]
     },
     "execution_count": 92,
     "metadata": {},
     "output_type": "execute_result"
    }
   ],
   "source": [
    " #Print a (3,3) matrix using list comprehension -> Nested List comprehension\n",
    "#[(i,j) for i in range(1,4) for j in range(1,4)]"
   ]
  },
  {
   "cell_type": "code",
   "execution_count": 95,
   "id": "96c51f75",
   "metadata": {},
   "outputs": [
    {
     "data": {
      "text/plain": [
       "[[1, 2, 3], [2, 4, 6], [3, 6, 9]]"
      ]
     },
     "execution_count": 95,
     "metadata": {},
     "output_type": "execute_result"
    }
   ],
   "source": [
    "[[ i *j for i in range(1,4)]for j in range(1,4)]"
   ]
  },
  {
   "cell_type": "code",
   "execution_count": 96,
   "id": "85596dfe",
   "metadata": {},
   "outputs": [
    {
     "data": {
      "text/plain": [
       "[1, 2, 3, 2, 4, 6, 3, 6, 9]"
      ]
     },
     "execution_count": 96,
     "metadata": {},
     "output_type": "execute_result"
    }
   ],
   "source": [
    "# cartesian products -> List comprehension on 2 lists together\n",
    "[i*j for i in range(1,4) for j in range(1,4)]"
   ]
  },
  {
   "cell_type": "code",
   "execution_count": 98,
   "id": "93cf68bc",
   "metadata": {},
   "outputs": [
    {
     "name": "stdout",
     "output_type": "stream",
     "text": [
      "1\n",
      "2\n",
      "3\n"
     ]
    }
   ],
   "source": [
    "#ways to traverse a list\n",
    "#itemwise\n",
    "for i in [1,2,3]:\n",
    "    print(i)\n"
   ]
  },
  {
   "cell_type": "code",
   "execution_count": 100,
   "id": "e1066ead",
   "metadata": {},
   "outputs": [
    {
     "name": "stdout",
     "output_type": "stream",
     "text": [
      "1\n",
      "2\n",
      "3\n"
     ]
    }
   ],
   "source": [
    "#indexwise\n",
    "L=[1,2,3]\n",
    "for i in range(0,len(L)):\n",
    "    print(L[i])"
   ]
  },
  {
   "cell_type": "raw",
   "id": "24731eeb",
   "metadata": {},
   "source": [
    "Zip\n",
    "The zip() function returns a zip object, which is an iterator of tuples where the first item in each passed iterator is paired together, and then the second item in each passed iterator are paired together.\n",
    "\n",
    "If the passed iterators have different lengths, the iterator with the least items decides the length of the new iterator."
   ]
  },
  {
   "cell_type": "code",
   "execution_count": 103,
   "id": "341e356e",
   "metadata": {},
   "outputs": [
    {
     "data": {
      "text/plain": [
       "[(1, 4), (2, 5), (3, 6)]"
      ]
     },
     "execution_count": 103,
     "metadata": {},
     "output_type": "execute_result"
    }
   ],
   "source": [
    "# Write a program to add items of 2 lists indexwise\n",
    "L1=[1,2,3]\n",
    "L2=[4,5,6]\n",
    "zip(L1,L2) # gives zip object\n",
    "list(zip(L1,L2))"
   ]
  },
  {
   "cell_type": "code",
   "execution_count": 104,
   "id": "dbe574ee",
   "metadata": {},
   "outputs": [
    {
     "data": {
      "text/plain": [
       "[5, 7, 9]"
      ]
     },
     "execution_count": 104,
     "metadata": {},
     "output_type": "execute_result"
    }
   ],
   "source": [
    "[i+j for i,j in zip(L1,L2)]"
   ]
  },
  {
   "cell_type": "raw",
   "id": "f1e49355",
   "metadata": {},
   "source": [
    "## Disadvantages of Python Lists\n",
    "\n",
    "- Slow\n",
    "- Risky usage \n",
    "- eats up more memory"
   ]
  },
  {
   "cell_type": "code",
   "execution_count": 105,
   "id": "24dee602",
   "metadata": {},
   "outputs": [],
   "source": [
    "#why risky\n",
    "a=[1,2,3,4]\n",
    "b=a.copy()"
   ]
  },
  {
   "cell_type": "code",
   "execution_count": 106,
   "id": "2ccca10b",
   "metadata": {},
   "outputs": [
    {
     "name": "stdout",
     "output_type": "stream",
     "text": [
      "1842130746432\n",
      "1842129841280\n"
     ]
    }
   ],
   "source": [
    "print(id(a))\n",
    "print(id(b)) # both come diff"
   ]
  },
  {
   "cell_type": "code",
   "execution_count": 107,
   "id": "6533c556",
   "metadata": {},
   "outputs": [],
   "source": [
    "#but now perform some operations on b only\n",
    "b.append(5)"
   ]
  },
  {
   "cell_type": "code",
   "execution_count": 108,
   "id": "c59325ba",
   "metadata": {},
   "outputs": [
    {
     "data": {
      "text/plain": [
       "[1, 2, 3, 4, 5]"
      ]
     },
     "execution_count": 108,
     "metadata": {},
     "output_type": "execute_result"
    }
   ],
   "source": [
    "b"
   ]
  },
  {
   "cell_type": "code",
   "execution_count": 109,
   "id": "7d653672",
   "metadata": {},
   "outputs": [
    {
     "data": {
      "text/plain": [
       "[1, 2, 3, 4]"
      ]
     },
     "execution_count": 109,
     "metadata": {},
     "output_type": "execute_result"
    }
   ],
   "source": [
    "a"
   ]
  },
  {
   "cell_type": "code",
   "execution_count": 110,
   "id": "4260530d",
   "metadata": {},
   "outputs": [],
   "source": [
    "a.append(6)"
   ]
  },
  {
   "cell_type": "code",
   "execution_count": 112,
   "id": "ec9fc14c",
   "metadata": {},
   "outputs": [
    {
     "data": {
      "text/plain": [
       "[1, 2, 3, 4, 6]"
      ]
     },
     "execution_count": 112,
     "metadata": {},
     "output_type": "execute_result"
    }
   ],
   "source": [
    "a"
   ]
  },
  {
   "cell_type": "code",
   "execution_count": 111,
   "id": "0cfa9b85",
   "metadata": {},
   "outputs": [
    {
     "data": {
      "text/plain": [
       "[1, 2, 3, 4, 5]"
      ]
     },
     "execution_count": 111,
     "metadata": {},
     "output_type": "execute_result"
    }
   ],
   "source": [
    "b"
   ]
  },
  {
   "cell_type": "raw",
   "id": "582c4a56",
   "metadata": {},
   "source": [
    "When you use the copy() method in Python to create a new list (b in this case) from an existing list (a in this case), it creates a shallow copy. This means that a new list is created with the same elements as the original list, but they are separate objects in memory.\n",
    "\n",
    "If you modify or change the elements in list b, it will not impact the elements in list a. They remain unchanged."
   ]
  },
  {
   "cell_type": "code",
   "execution_count": 113,
   "id": "112b4b70",
   "metadata": {},
   "outputs": [],
   "source": [
    "a = [1, 2, 3]\n",
    "b = a[:]"
   ]
  },
  {
   "cell_type": "code",
   "execution_count": 114,
   "id": "6cddb4dd",
   "metadata": {},
   "outputs": [],
   "source": [
    "b.append(5)"
   ]
  },
  {
   "cell_type": "code",
   "execution_count": 115,
   "id": "5c5c042f",
   "metadata": {},
   "outputs": [
    {
     "data": {
      "text/plain": [
       "[1, 2, 3, 5]"
      ]
     },
     "execution_count": 115,
     "metadata": {},
     "output_type": "execute_result"
    }
   ],
   "source": [
    "b"
   ]
  },
  {
   "cell_type": "code",
   "execution_count": 116,
   "id": "3f7a8dc4",
   "metadata": {},
   "outputs": [
    {
     "data": {
      "text/plain": [
       "[1, 2, 3]"
      ]
     },
     "execution_count": 116,
     "metadata": {},
     "output_type": "execute_result"
    }
   ],
   "source": [
    "a"
   ]
  },
  {
   "cell_type": "code",
   "execution_count": 117,
   "id": "a2b06537",
   "metadata": {},
   "outputs": [],
   "source": [
    "b[0]=6"
   ]
  },
  {
   "cell_type": "code",
   "execution_count": 118,
   "id": "469a1c31",
   "metadata": {},
   "outputs": [
    {
     "data": {
      "text/plain": [
       "[6, 2, 3, 5]"
      ]
     },
     "execution_count": 118,
     "metadata": {},
     "output_type": "execute_result"
    }
   ],
   "source": [
    "b"
   ]
  },
  {
   "cell_type": "code",
   "execution_count": 119,
   "id": "360ef72b",
   "metadata": {},
   "outputs": [
    {
     "data": {
      "text/plain": [
       "[1, 2, 3]"
      ]
     },
     "execution_count": 119,
     "metadata": {},
     "output_type": "execute_result"
    }
   ],
   "source": [
    "a"
   ]
  },
  {
   "cell_type": "code",
   "execution_count": 121,
   "id": "735acc9c",
   "metadata": {},
   "outputs": [],
   "source": [
    "c=[1,2,[3,4]]\n",
    "d=c.copy()\n",
    "\n",
    "c.append(6)"
   ]
  },
  {
   "cell_type": "code",
   "execution_count": 122,
   "id": "c3fa479d",
   "metadata": {},
   "outputs": [
    {
     "data": {
      "text/plain": [
       "[1, 2, [3, 4], 6]"
      ]
     },
     "execution_count": 122,
     "metadata": {},
     "output_type": "execute_result"
    }
   ],
   "source": [
    "c"
   ]
  },
  {
   "cell_type": "code",
   "execution_count": 123,
   "id": "fe485fee",
   "metadata": {},
   "outputs": [
    {
     "data": {
      "text/plain": [
       "[1, 2, [3, 4]]"
      ]
     },
     "execution_count": 123,
     "metadata": {},
     "output_type": "execute_result"
    }
   ],
   "source": [
    "d"
   ]
  },
  {
   "cell_type": "code",
   "execution_count": 124,
   "id": "7834eb42",
   "metadata": {},
   "outputs": [],
   "source": [
    "c[2][0]=5"
   ]
  },
  {
   "cell_type": "code",
   "execution_count": 125,
   "id": "922f040b",
   "metadata": {},
   "outputs": [
    {
     "data": {
      "text/plain": [
       "[1, 2, [5, 4], 6]"
      ]
     },
     "execution_count": 125,
     "metadata": {},
     "output_type": "execute_result"
    }
   ],
   "source": [
    "c"
   ]
  },
  {
   "cell_type": "code",
   "execution_count": 126,
   "id": "08c0c249",
   "metadata": {},
   "outputs": [
    {
     "data": {
      "text/plain": [
       "[1, 2, [5, 4]]"
      ]
     },
     "execution_count": 126,
     "metadata": {},
     "output_type": "execute_result"
    }
   ],
   "source": [
    "d"
   ]
  },
  {
   "cell_type": "raw",
   "id": "7a27d044",
   "metadata": {},
   "source": [
    "copy function and slicing not work well with 2d list then below problem comes:\n",
    "    b also affects the original list a. This behavior occurs because the copy is shallow, meaning the nested list is not deeply copied, and both lists reference the same object.\n",
    "\n",
    "If you want to avoid such behavior and ensure that modifying the copied list does not affect the original list, you need to perform a deep copy using the copy module's deepcopy() function,"
   ]
  }
 ],
 "metadata": {
  "kernelspec": {
   "display_name": "Python 3 (ipykernel)",
   "language": "python",
   "name": "python3"
  },
  "language_info": {
   "codemirror_mode": {
    "name": "ipython",
    "version": 3
   },
   "file_extension": ".py",
   "mimetype": "text/x-python",
   "name": "python",
   "nbconvert_exporter": "python",
   "pygments_lexer": "ipython3",
   "version": "3.9.7"
  }
 },
 "nbformat": 4,
 "nbformat_minor": 5
}
